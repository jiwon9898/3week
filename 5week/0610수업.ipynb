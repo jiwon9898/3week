{
 "cells": [
  {
   "cell_type": "code",
   "execution_count": 7,
   "metadata": {},
   "outputs": [
    {
     "name": "stdout",
     "output_type": "stream",
     "text": [
      "Requirement already satisfied: webdriver_manager in c:\\users\\user\\appdata\\local\\programs\\python\\python39\\lib\\site-packages (4.0.1)\n",
      "Requirement already satisfied: packaging in c:\\users\\user\\appdata\\local\\programs\\python\\python39\\lib\\site-packages (from webdriver_manager) (24.0)\n",
      "Requirement already satisfied: python-dotenv in c:\\users\\user\\appdata\\local\\programs\\python\\python39\\lib\\site-packages (from webdriver_manager) (1.0.1)\n",
      "Requirement already satisfied: requests in c:\\users\\user\\appdata\\local\\programs\\python\\python39\\lib\\site-packages (from webdriver_manager) (2.31.0)\n",
      "Requirement already satisfied: idna<4,>=2.5 in c:\\users\\user\\appdata\\local\\programs\\python\\python39\\lib\\site-packages (from requests->webdriver_manager) (3.7)\n",
      "Requirement already satisfied: charset-normalizer<4,>=2 in c:\\users\\user\\appdata\\local\\programs\\python\\python39\\lib\\site-packages (from requests->webdriver_manager) (3.3.2)\n",
      "Requirement already satisfied: certifi>=2017.4.17 in c:\\users\\user\\appdata\\local\\programs\\python\\python39\\lib\\site-packages (from requests->webdriver_manager) (2024.2.2)\n",
      "Requirement already satisfied: urllib3<3,>=1.21.1 in c:\\users\\user\\appdata\\local\\programs\\python\\python39\\lib\\site-packages (from requests->webdriver_manager) (2.2.1)\n",
      "Note: you may need to restart the kernel to use updated packages.\n"
     ]
    },
    {
     "name": "stderr",
     "output_type": "stream",
     "text": [
      "WARNING: You are using pip version 21.1.3; however, version 24.0 is available.\n",
      "You should consider upgrading via the 'c:\\Users\\USER\\AppData\\Local\\Programs\\Python\\Python39\\python.exe -m pip install --upgrade pip' command.\n"
     ]
    }
   ],
   "source": [
    "pip install webdriver_manager"
   ]
  },
  {
   "cell_type": "code",
   "execution_count": 8,
   "metadata": {},
   "outputs": [],
   "source": [
    "from selenium import webdriver ## 브라우저를 제어하기 위한 모듈\n",
    "from webdriver_manager.chrome import ChromeDriverManager ## 크롬 드라이버를 자동으로 설치해주는 모듈\n",
    "from selenium.webdriver.chrome.service import Service as ChromeService ## 크롬 브라우저 제어\n",
    "from selenium.webdriver.support.wait import WebDriverWait ## 웹 페이지가 로딩될 때까지 대기하기 위한 모듈\n",
    "from selenium.webdriver.support import expected_conditions as EC ## 대기 조건을 설정하기 위한 모듈\n",
    "from selenium.webdriver.common.by import By ## 웹 요소를 선택하기 위한 모듈\n",
    "from selenium.webdriver.common.keys import Keys ## 키보드 입력을 위한 모듈\n",
    "\n",
    "## 크롬 옵션을 설정하기 위한 모듈\n",
    "options = webdriver.ChromeOptions()\n",
    "\n",
    "driver = webdriver.Chrome(\n",
    "    service=ChromeService(ChromeDriverManager().install()), options=options\n",
    ") ## 크롬드라이버를 설치하고 옵션을 적용하여 실행"
   ]
  },
  {
   "cell_type": "code",
   "execution_count": 9,
   "metadata": {},
   "outputs": [],
   "source": [
    "## user-agent 확인\n",
    "driver.get(\"https://www.whatismybrowser.com/detect/what-is-my-user-agent\")"
   ]
  },
  {
   "cell_type": "code",
   "execution_count": 4,
   "metadata": {},
   "outputs": [],
   "source": [
    "driver.quit() ## 브라우저 종료"
   ]
  },
  {
   "cell_type": "code",
   "execution_count": 5,
   "metadata": {},
   "outputs": [
    {
     "ename": "MaxRetryError",
     "evalue": "HTTPConnectionPool(host='localhost', port=53135): Max retries exceeded with url: /session/4dd2f10dbce28cde2c42563baa51d901/url (Caused by NewConnectionError('<urllib3.connection.HTTPConnection object at 0x000001A130F8F280>: Failed to establish a new connection: [WinError 10061] 대상 컴퓨터에서 연결을 거부했으므로 연결하지 못했습니다'))",
     "output_type": "error",
     "traceback": [
      "\u001b[1;31m---------------------------------------------------------------------------\u001b[0m",
      "\u001b[1;31mConnectionRefusedError\u001b[0m                    Traceback (most recent call last)",
      "File \u001b[1;32mc:\\Users\\USER\\AppData\\Local\\Programs\\Python\\Python39\\lib\\site-packages\\urllib3\\connection.py:198\u001b[0m, in \u001b[0;36mHTTPConnection._new_conn\u001b[1;34m(self)\u001b[0m\n\u001b[0;32m    197\u001b[0m \u001b[38;5;28;01mtry\u001b[39;00m:\n\u001b[1;32m--> 198\u001b[0m     sock \u001b[38;5;241m=\u001b[39m \u001b[43mconnection\u001b[49m\u001b[38;5;241;43m.\u001b[39;49m\u001b[43mcreate_connection\u001b[49m\u001b[43m(\u001b[49m\n\u001b[0;32m    199\u001b[0m \u001b[43m        \u001b[49m\u001b[43m(\u001b[49m\u001b[38;5;28;43mself\u001b[39;49m\u001b[38;5;241;43m.\u001b[39;49m\u001b[43m_dns_host\u001b[49m\u001b[43m,\u001b[49m\u001b[43m \u001b[49m\u001b[38;5;28;43mself\u001b[39;49m\u001b[38;5;241;43m.\u001b[39;49m\u001b[43mport\u001b[49m\u001b[43m)\u001b[49m\u001b[43m,\u001b[49m\n\u001b[0;32m    200\u001b[0m \u001b[43m        \u001b[49m\u001b[38;5;28;43mself\u001b[39;49m\u001b[38;5;241;43m.\u001b[39;49m\u001b[43mtimeout\u001b[49m\u001b[43m,\u001b[49m\n\u001b[0;32m    201\u001b[0m \u001b[43m        \u001b[49m\u001b[43msource_address\u001b[49m\u001b[38;5;241;43m=\u001b[39;49m\u001b[38;5;28;43mself\u001b[39;49m\u001b[38;5;241;43m.\u001b[39;49m\u001b[43msource_address\u001b[49m\u001b[43m,\u001b[49m\n\u001b[0;32m    202\u001b[0m \u001b[43m        \u001b[49m\u001b[43msocket_options\u001b[49m\u001b[38;5;241;43m=\u001b[39;49m\u001b[38;5;28;43mself\u001b[39;49m\u001b[38;5;241;43m.\u001b[39;49m\u001b[43msocket_options\u001b[49m\u001b[43m,\u001b[49m\n\u001b[0;32m    203\u001b[0m \u001b[43m    \u001b[49m\u001b[43m)\u001b[49m\n\u001b[0;32m    204\u001b[0m \u001b[38;5;28;01mexcept\u001b[39;00m socket\u001b[38;5;241m.\u001b[39mgaierror \u001b[38;5;28;01mas\u001b[39;00m e:\n",
      "File \u001b[1;32mc:\\Users\\USER\\AppData\\Local\\Programs\\Python\\Python39\\lib\\site-packages\\urllib3\\util\\connection.py:85\u001b[0m, in \u001b[0;36mcreate_connection\u001b[1;34m(address, timeout, source_address, socket_options)\u001b[0m\n\u001b[0;32m     84\u001b[0m \u001b[38;5;28;01mtry\u001b[39;00m:\n\u001b[1;32m---> 85\u001b[0m     \u001b[38;5;28;01mraise\u001b[39;00m err\n\u001b[0;32m     86\u001b[0m \u001b[38;5;28;01mfinally\u001b[39;00m:\n\u001b[0;32m     87\u001b[0m     \u001b[38;5;66;03m# Break explicitly a reference cycle\u001b[39;00m\n",
      "File \u001b[1;32mc:\\Users\\USER\\AppData\\Local\\Programs\\Python\\Python39\\lib\\site-packages\\urllib3\\util\\connection.py:73\u001b[0m, in \u001b[0;36mcreate_connection\u001b[1;34m(address, timeout, source_address, socket_options)\u001b[0m\n\u001b[0;32m     72\u001b[0m     sock\u001b[38;5;241m.\u001b[39mbind(source_address)\n\u001b[1;32m---> 73\u001b[0m \u001b[43msock\u001b[49m\u001b[38;5;241;43m.\u001b[39;49m\u001b[43mconnect\u001b[49m\u001b[43m(\u001b[49m\u001b[43msa\u001b[49m\u001b[43m)\u001b[49m\n\u001b[0;32m     74\u001b[0m \u001b[38;5;66;03m# Break explicitly a reference cycle\u001b[39;00m\n",
      "\u001b[1;31mConnectionRefusedError\u001b[0m: [WinError 10061] 대상 컴퓨터에서 연결을 거부했으므로 연결하지 못했습니다",
      "\nThe above exception was the direct cause of the following exception:\n",
      "\u001b[1;31mNewConnectionError\u001b[0m                        Traceback (most recent call last)",
      "File \u001b[1;32mc:\\Users\\USER\\AppData\\Local\\Programs\\Python\\Python39\\lib\\site-packages\\urllib3\\connectionpool.py:793\u001b[0m, in \u001b[0;36mHTTPConnectionPool.urlopen\u001b[1;34m(self, method, url, body, headers, retries, redirect, assert_same_host, timeout, pool_timeout, release_conn, chunked, body_pos, preload_content, decode_content, **response_kw)\u001b[0m\n\u001b[0;32m    792\u001b[0m \u001b[38;5;66;03m# Make the request on the HTTPConnection object\u001b[39;00m\n\u001b[1;32m--> 793\u001b[0m response \u001b[38;5;241m=\u001b[39m \u001b[38;5;28mself\u001b[39m\u001b[38;5;241m.\u001b[39m_make_request(\n\u001b[0;32m    794\u001b[0m     conn,\n\u001b[0;32m    795\u001b[0m     method,\n\u001b[0;32m    796\u001b[0m     url,\n\u001b[0;32m    797\u001b[0m     timeout\u001b[38;5;241m=\u001b[39mtimeout_obj,\n\u001b[0;32m    798\u001b[0m     body\u001b[38;5;241m=\u001b[39mbody,\n\u001b[0;32m    799\u001b[0m     headers\u001b[38;5;241m=\u001b[39mheaders,\n\u001b[0;32m    800\u001b[0m     chunked\u001b[38;5;241m=\u001b[39mchunked,\n\u001b[0;32m    801\u001b[0m     retries\u001b[38;5;241m=\u001b[39mretries,\n\u001b[0;32m    802\u001b[0m     response_conn\u001b[38;5;241m=\u001b[39mresponse_conn,\n\u001b[0;32m    803\u001b[0m     preload_content\u001b[38;5;241m=\u001b[39mpreload_content,\n\u001b[0;32m    804\u001b[0m     decode_content\u001b[38;5;241m=\u001b[39mdecode_content,\n\u001b[0;32m    805\u001b[0m     \u001b[38;5;241m*\u001b[39m\u001b[38;5;241m*\u001b[39mresponse_kw,\n\u001b[0;32m    806\u001b[0m )\n\u001b[0;32m    808\u001b[0m \u001b[38;5;66;03m# Everything went great!\u001b[39;00m\n",
      "File \u001b[1;32mc:\\Users\\USER\\AppData\\Local\\Programs\\Python\\Python39\\lib\\site-packages\\urllib3\\connectionpool.py:496\u001b[0m, in \u001b[0;36mHTTPConnectionPool._make_request\u001b[1;34m(self, conn, method, url, body, headers, retries, timeout, chunked, response_conn, preload_content, decode_content, enforce_content_length)\u001b[0m\n\u001b[0;32m    495\u001b[0m \u001b[38;5;28;01mtry\u001b[39;00m:\n\u001b[1;32m--> 496\u001b[0m     \u001b[43mconn\u001b[49m\u001b[38;5;241;43m.\u001b[39;49m\u001b[43mrequest\u001b[49m\u001b[43m(\u001b[49m\n\u001b[0;32m    497\u001b[0m \u001b[43m        \u001b[49m\u001b[43mmethod\u001b[49m\u001b[43m,\u001b[49m\n\u001b[0;32m    498\u001b[0m \u001b[43m        \u001b[49m\u001b[43murl\u001b[49m\u001b[43m,\u001b[49m\n\u001b[0;32m    499\u001b[0m \u001b[43m        \u001b[49m\u001b[43mbody\u001b[49m\u001b[38;5;241;43m=\u001b[39;49m\u001b[43mbody\u001b[49m\u001b[43m,\u001b[49m\n\u001b[0;32m    500\u001b[0m \u001b[43m        \u001b[49m\u001b[43mheaders\u001b[49m\u001b[38;5;241;43m=\u001b[39;49m\u001b[43mheaders\u001b[49m\u001b[43m,\u001b[49m\n\u001b[0;32m    501\u001b[0m \u001b[43m        \u001b[49m\u001b[43mchunked\u001b[49m\u001b[38;5;241;43m=\u001b[39;49m\u001b[43mchunked\u001b[49m\u001b[43m,\u001b[49m\n\u001b[0;32m    502\u001b[0m \u001b[43m        \u001b[49m\u001b[43mpreload_content\u001b[49m\u001b[38;5;241;43m=\u001b[39;49m\u001b[43mpreload_content\u001b[49m\u001b[43m,\u001b[49m\n\u001b[0;32m    503\u001b[0m \u001b[43m        \u001b[49m\u001b[43mdecode_content\u001b[49m\u001b[38;5;241;43m=\u001b[39;49m\u001b[43mdecode_content\u001b[49m\u001b[43m,\u001b[49m\n\u001b[0;32m    504\u001b[0m \u001b[43m        \u001b[49m\u001b[43menforce_content_length\u001b[49m\u001b[38;5;241;43m=\u001b[39;49m\u001b[43menforce_content_length\u001b[49m\u001b[43m,\u001b[49m\n\u001b[0;32m    505\u001b[0m \u001b[43m    \u001b[49m\u001b[43m)\u001b[49m\n\u001b[0;32m    507\u001b[0m \u001b[38;5;66;03m# We are swallowing BrokenPipeError (errno.EPIPE) since the server is\u001b[39;00m\n\u001b[0;32m    508\u001b[0m \u001b[38;5;66;03m# legitimately able to close the connection after sending a valid response.\u001b[39;00m\n\u001b[0;32m    509\u001b[0m \u001b[38;5;66;03m# With this behaviour, the received response is still readable.\u001b[39;00m\n",
      "File \u001b[1;32mc:\\Users\\USER\\AppData\\Local\\Programs\\Python\\Python39\\lib\\site-packages\\urllib3\\connection.py:400\u001b[0m, in \u001b[0;36mHTTPConnection.request\u001b[1;34m(self, method, url, body, headers, chunked, preload_content, decode_content, enforce_content_length)\u001b[0m\n\u001b[0;32m    399\u001b[0m     \u001b[38;5;28mself\u001b[39m\u001b[38;5;241m.\u001b[39mputheader(header, value)\n\u001b[1;32m--> 400\u001b[0m \u001b[38;5;28;43mself\u001b[39;49m\u001b[38;5;241;43m.\u001b[39;49m\u001b[43mendheaders\u001b[49m\u001b[43m(\u001b[49m\u001b[43m)\u001b[49m\n\u001b[0;32m    402\u001b[0m \u001b[38;5;66;03m# If we're given a body we start sending that in chunks.\u001b[39;00m\n",
      "File \u001b[1;32mc:\\Users\\USER\\AppData\\Local\\Programs\\Python\\Python39\\lib\\http\\client.py:1252\u001b[0m, in \u001b[0;36mHTTPConnection.endheaders\u001b[1;34m(self, message_body, encode_chunked)\u001b[0m\n\u001b[0;32m   1251\u001b[0m     \u001b[38;5;28;01mraise\u001b[39;00m CannotSendHeader()\n\u001b[1;32m-> 1252\u001b[0m \u001b[38;5;28;43mself\u001b[39;49m\u001b[38;5;241;43m.\u001b[39;49m\u001b[43m_send_output\u001b[49m\u001b[43m(\u001b[49m\u001b[43mmessage_body\u001b[49m\u001b[43m,\u001b[49m\u001b[43m \u001b[49m\u001b[43mencode_chunked\u001b[49m\u001b[38;5;241;43m=\u001b[39;49m\u001b[43mencode_chunked\u001b[49m\u001b[43m)\u001b[49m\n",
      "File \u001b[1;32mc:\\Users\\USER\\AppData\\Local\\Programs\\Python\\Python39\\lib\\http\\client.py:1012\u001b[0m, in \u001b[0;36mHTTPConnection._send_output\u001b[1;34m(self, message_body, encode_chunked)\u001b[0m\n\u001b[0;32m   1011\u001b[0m \u001b[38;5;28;01mdel\u001b[39;00m \u001b[38;5;28mself\u001b[39m\u001b[38;5;241m.\u001b[39m_buffer[:]\n\u001b[1;32m-> 1012\u001b[0m \u001b[38;5;28;43mself\u001b[39;49m\u001b[38;5;241;43m.\u001b[39;49m\u001b[43msend\u001b[49m\u001b[43m(\u001b[49m\u001b[43mmsg\u001b[49m\u001b[43m)\u001b[49m\n\u001b[0;32m   1014\u001b[0m \u001b[38;5;28;01mif\u001b[39;00m message_body \u001b[38;5;129;01mis\u001b[39;00m \u001b[38;5;129;01mnot\u001b[39;00m \u001b[38;5;28;01mNone\u001b[39;00m:\n\u001b[0;32m   1015\u001b[0m \n\u001b[0;32m   1016\u001b[0m     \u001b[38;5;66;03m# create a consistent interface to message_body\u001b[39;00m\n",
      "File \u001b[1;32mc:\\Users\\USER\\AppData\\Local\\Programs\\Python\\Python39\\lib\\http\\client.py:952\u001b[0m, in \u001b[0;36mHTTPConnection.send\u001b[1;34m(self, data)\u001b[0m\n\u001b[0;32m    951\u001b[0m \u001b[38;5;28;01mif\u001b[39;00m \u001b[38;5;28mself\u001b[39m\u001b[38;5;241m.\u001b[39mauto_open:\n\u001b[1;32m--> 952\u001b[0m     \u001b[38;5;28;43mself\u001b[39;49m\u001b[38;5;241;43m.\u001b[39;49m\u001b[43mconnect\u001b[49m\u001b[43m(\u001b[49m\u001b[43m)\u001b[49m\n\u001b[0;32m    953\u001b[0m \u001b[38;5;28;01melse\u001b[39;00m:\n",
      "File \u001b[1;32mc:\\Users\\USER\\AppData\\Local\\Programs\\Python\\Python39\\lib\\site-packages\\urllib3\\connection.py:238\u001b[0m, in \u001b[0;36mHTTPConnection.connect\u001b[1;34m(self)\u001b[0m\n\u001b[0;32m    237\u001b[0m \u001b[38;5;28;01mdef\u001b[39;00m \u001b[38;5;21mconnect\u001b[39m(\u001b[38;5;28mself\u001b[39m) \u001b[38;5;241m-\u001b[39m\u001b[38;5;241m>\u001b[39m \u001b[38;5;28;01mNone\u001b[39;00m:\n\u001b[1;32m--> 238\u001b[0m     \u001b[38;5;28mself\u001b[39m\u001b[38;5;241m.\u001b[39msock \u001b[38;5;241m=\u001b[39m \u001b[38;5;28;43mself\u001b[39;49m\u001b[38;5;241;43m.\u001b[39;49m\u001b[43m_new_conn\u001b[49m\u001b[43m(\u001b[49m\u001b[43m)\u001b[49m\n\u001b[0;32m    239\u001b[0m     \u001b[38;5;28;01mif\u001b[39;00m \u001b[38;5;28mself\u001b[39m\u001b[38;5;241m.\u001b[39m_tunnel_host:\n\u001b[0;32m    240\u001b[0m         \u001b[38;5;66;03m# If we're tunneling it means we're connected to our proxy.\u001b[39;00m\n",
      "File \u001b[1;32mc:\\Users\\USER\\AppData\\Local\\Programs\\Python\\Python39\\lib\\site-packages\\urllib3\\connection.py:213\u001b[0m, in \u001b[0;36mHTTPConnection._new_conn\u001b[1;34m(self)\u001b[0m\n\u001b[0;32m    212\u001b[0m \u001b[38;5;28;01mexcept\u001b[39;00m \u001b[38;5;167;01mOSError\u001b[39;00m \u001b[38;5;28;01mas\u001b[39;00m e:\n\u001b[1;32m--> 213\u001b[0m     \u001b[38;5;28;01mraise\u001b[39;00m NewConnectionError(\n\u001b[0;32m    214\u001b[0m         \u001b[38;5;28mself\u001b[39m, \u001b[38;5;124mf\u001b[39m\u001b[38;5;124m\"\u001b[39m\u001b[38;5;124mFailed to establish a new connection: \u001b[39m\u001b[38;5;132;01m{\u001b[39;00me\u001b[38;5;132;01m}\u001b[39;00m\u001b[38;5;124m\"\u001b[39m\n\u001b[0;32m    215\u001b[0m     ) \u001b[38;5;28;01mfrom\u001b[39;00m \u001b[38;5;21;01me\u001b[39;00m\n\u001b[0;32m    217\u001b[0m \u001b[38;5;66;03m# Audit hooks are only available in Python 3.8+\u001b[39;00m\n",
      "\u001b[1;31mNewConnectionError\u001b[0m: <urllib3.connection.HTTPConnection object at 0x000001A130F8F280>: Failed to establish a new connection: [WinError 10061] 대상 컴퓨터에서 연결을 거부했으므로 연결하지 못했습니다",
      "\nThe above exception was the direct cause of the following exception:\n",
      "\u001b[1;31mMaxRetryError\u001b[0m                             Traceback (most recent call last)",
      "Cell \u001b[1;32mIn[5], line 2\u001b[0m\n\u001b[0;32m      1\u001b[0m \u001b[38;5;66;03m## user-agent 확인\u001b[39;00m\n\u001b[1;32m----> 2\u001b[0m \u001b[43mdriver\u001b[49m\u001b[38;5;241;43m.\u001b[39;49m\u001b[43mget\u001b[49m\u001b[43m(\u001b[49m\u001b[38;5;124;43m\"\u001b[39;49m\u001b[38;5;124;43mhttps://www.whatismybrowser.com/detect/what-is-my-user-agent\u001b[39;49m\u001b[38;5;124;43m\"\u001b[39;49m\u001b[43m)\u001b[49m\n",
      "File \u001b[1;32mc:\\Users\\USER\\AppData\\Local\\Programs\\Python\\Python39\\lib\\site-packages\\selenium\\webdriver\\remote\\webdriver.py:356\u001b[0m, in \u001b[0;36mWebDriver.get\u001b[1;34m(self, url)\u001b[0m\n\u001b[0;32m    354\u001b[0m \u001b[38;5;28;01mdef\u001b[39;00m \u001b[38;5;21mget\u001b[39m(\u001b[38;5;28mself\u001b[39m, url: \u001b[38;5;28mstr\u001b[39m) \u001b[38;5;241m-\u001b[39m\u001b[38;5;241m>\u001b[39m \u001b[38;5;28;01mNone\u001b[39;00m:\n\u001b[0;32m    355\u001b[0m \u001b[38;5;250m    \u001b[39m\u001b[38;5;124;03m\"\"\"Loads a web page in the current browser session.\"\"\"\u001b[39;00m\n\u001b[1;32m--> 356\u001b[0m     \u001b[38;5;28;43mself\u001b[39;49m\u001b[38;5;241;43m.\u001b[39;49m\u001b[43mexecute\u001b[49m\u001b[43m(\u001b[49m\u001b[43mCommand\u001b[49m\u001b[38;5;241;43m.\u001b[39;49m\u001b[43mGET\u001b[49m\u001b[43m,\u001b[49m\u001b[43m \u001b[49m\u001b[43m{\u001b[49m\u001b[38;5;124;43m\"\u001b[39;49m\u001b[38;5;124;43murl\u001b[39;49m\u001b[38;5;124;43m\"\u001b[39;49m\u001b[43m:\u001b[49m\u001b[43m \u001b[49m\u001b[43murl\u001b[49m\u001b[43m}\u001b[49m\u001b[43m)\u001b[49m\n",
      "File \u001b[1;32mc:\\Users\\USER\\AppData\\Local\\Programs\\Python\\Python39\\lib\\site-packages\\selenium\\webdriver\\remote\\webdriver.py:345\u001b[0m, in \u001b[0;36mWebDriver.execute\u001b[1;34m(self, driver_command, params)\u001b[0m\n\u001b[0;32m    342\u001b[0m     \u001b[38;5;28;01melif\u001b[39;00m \u001b[38;5;124m\"\u001b[39m\u001b[38;5;124msessionId\u001b[39m\u001b[38;5;124m\"\u001b[39m \u001b[38;5;129;01mnot\u001b[39;00m \u001b[38;5;129;01min\u001b[39;00m params:\n\u001b[0;32m    343\u001b[0m         params[\u001b[38;5;124m\"\u001b[39m\u001b[38;5;124msessionId\u001b[39m\u001b[38;5;124m\"\u001b[39m] \u001b[38;5;241m=\u001b[39m \u001b[38;5;28mself\u001b[39m\u001b[38;5;241m.\u001b[39msession_id\n\u001b[1;32m--> 345\u001b[0m response \u001b[38;5;241m=\u001b[39m \u001b[38;5;28;43mself\u001b[39;49m\u001b[38;5;241;43m.\u001b[39;49m\u001b[43mcommand_executor\u001b[49m\u001b[38;5;241;43m.\u001b[39;49m\u001b[43mexecute\u001b[49m\u001b[43m(\u001b[49m\u001b[43mdriver_command\u001b[49m\u001b[43m,\u001b[49m\u001b[43m \u001b[49m\u001b[43mparams\u001b[49m\u001b[43m)\u001b[49m\n\u001b[0;32m    346\u001b[0m \u001b[38;5;28;01mif\u001b[39;00m response:\n\u001b[0;32m    347\u001b[0m     \u001b[38;5;28mself\u001b[39m\u001b[38;5;241m.\u001b[39merror_handler\u001b[38;5;241m.\u001b[39mcheck_response(response)\n",
      "File \u001b[1;32mc:\\Users\\USER\\AppData\\Local\\Programs\\Python\\Python39\\lib\\site-packages\\selenium\\webdriver\\remote\\remote_connection.py:302\u001b[0m, in \u001b[0;36mRemoteConnection.execute\u001b[1;34m(self, command, params)\u001b[0m\n\u001b[0;32m    300\u001b[0m trimmed \u001b[38;5;241m=\u001b[39m \u001b[38;5;28mself\u001b[39m\u001b[38;5;241m.\u001b[39m_trim_large_entries(params)\n\u001b[0;32m    301\u001b[0m LOGGER\u001b[38;5;241m.\u001b[39mdebug(\u001b[38;5;124m\"\u001b[39m\u001b[38;5;132;01m%s\u001b[39;00m\u001b[38;5;124m \u001b[39m\u001b[38;5;132;01m%s\u001b[39;00m\u001b[38;5;124m \u001b[39m\u001b[38;5;132;01m%s\u001b[39;00m\u001b[38;5;124m\"\u001b[39m, command_info[\u001b[38;5;241m0\u001b[39m], url, \u001b[38;5;28mstr\u001b[39m(trimmed))\n\u001b[1;32m--> 302\u001b[0m \u001b[38;5;28;01mreturn\u001b[39;00m \u001b[38;5;28;43mself\u001b[39;49m\u001b[38;5;241;43m.\u001b[39;49m\u001b[43m_request\u001b[49m\u001b[43m(\u001b[49m\u001b[43mcommand_info\u001b[49m\u001b[43m[\u001b[49m\u001b[38;5;241;43m0\u001b[39;49m\u001b[43m]\u001b[49m\u001b[43m,\u001b[49m\u001b[43m \u001b[49m\u001b[43murl\u001b[49m\u001b[43m,\u001b[49m\u001b[43m \u001b[49m\u001b[43mbody\u001b[49m\u001b[38;5;241;43m=\u001b[39;49m\u001b[43mdata\u001b[49m\u001b[43m)\u001b[49m\n",
      "File \u001b[1;32mc:\\Users\\USER\\AppData\\Local\\Programs\\Python\\Python39\\lib\\site-packages\\selenium\\webdriver\\remote\\remote_connection.py:322\u001b[0m, in \u001b[0;36mRemoteConnection._request\u001b[1;34m(self, method, url, body)\u001b[0m\n\u001b[0;32m    319\u001b[0m     body \u001b[38;5;241m=\u001b[39m \u001b[38;5;28;01mNone\u001b[39;00m\n\u001b[0;32m    321\u001b[0m \u001b[38;5;28;01mif\u001b[39;00m \u001b[38;5;28mself\u001b[39m\u001b[38;5;241m.\u001b[39mkeep_alive:\n\u001b[1;32m--> 322\u001b[0m     response \u001b[38;5;241m=\u001b[39m \u001b[38;5;28;43mself\u001b[39;49m\u001b[38;5;241;43m.\u001b[39;49m\u001b[43m_conn\u001b[49m\u001b[38;5;241;43m.\u001b[39;49m\u001b[43mrequest\u001b[49m\u001b[43m(\u001b[49m\u001b[43mmethod\u001b[49m\u001b[43m,\u001b[49m\u001b[43m \u001b[49m\u001b[43murl\u001b[49m\u001b[43m,\u001b[49m\u001b[43m \u001b[49m\u001b[43mbody\u001b[49m\u001b[38;5;241;43m=\u001b[39;49m\u001b[43mbody\u001b[49m\u001b[43m,\u001b[49m\u001b[43m \u001b[49m\u001b[43mheaders\u001b[49m\u001b[38;5;241;43m=\u001b[39;49m\u001b[43mheaders\u001b[49m\u001b[43m)\u001b[49m\n\u001b[0;32m    323\u001b[0m     statuscode \u001b[38;5;241m=\u001b[39m response\u001b[38;5;241m.\u001b[39mstatus\n\u001b[0;32m    324\u001b[0m \u001b[38;5;28;01melse\u001b[39;00m:\n",
      "File \u001b[1;32mc:\\Users\\USER\\AppData\\Local\\Programs\\Python\\Python39\\lib\\site-packages\\urllib3\\_request_methods.py:144\u001b[0m, in \u001b[0;36mRequestMethods.request\u001b[1;34m(self, method, url, body, fields, headers, json, **urlopen_kw)\u001b[0m\n\u001b[0;32m    136\u001b[0m     \u001b[38;5;28;01mreturn\u001b[39;00m \u001b[38;5;28mself\u001b[39m\u001b[38;5;241m.\u001b[39mrequest_encode_url(\n\u001b[0;32m    137\u001b[0m         method,\n\u001b[0;32m    138\u001b[0m         url,\n\u001b[1;32m   (...)\u001b[0m\n\u001b[0;32m    141\u001b[0m         \u001b[38;5;241m*\u001b[39m\u001b[38;5;241m*\u001b[39murlopen_kw,\n\u001b[0;32m    142\u001b[0m     )\n\u001b[0;32m    143\u001b[0m \u001b[38;5;28;01melse\u001b[39;00m:\n\u001b[1;32m--> 144\u001b[0m     \u001b[38;5;28;01mreturn\u001b[39;00m \u001b[38;5;28mself\u001b[39m\u001b[38;5;241m.\u001b[39mrequest_encode_body(\n\u001b[0;32m    145\u001b[0m         method, url, fields\u001b[38;5;241m=\u001b[39mfields, headers\u001b[38;5;241m=\u001b[39mheaders, \u001b[38;5;241m*\u001b[39m\u001b[38;5;241m*\u001b[39murlopen_kw\n\u001b[0;32m    146\u001b[0m     )\n",
      "File \u001b[1;32mc:\\Users\\USER\\AppData\\Local\\Programs\\Python\\Python39\\lib\\site-packages\\urllib3\\_request_methods.py:279\u001b[0m, in \u001b[0;36mRequestMethods.request_encode_body\u001b[1;34m(self, method, url, fields, headers, encode_multipart, multipart_boundary, **urlopen_kw)\u001b[0m\n\u001b[0;32m    275\u001b[0m     extra_kw[\u001b[38;5;124m\"\u001b[39m\u001b[38;5;124mheaders\u001b[39m\u001b[38;5;124m\"\u001b[39m]\u001b[38;5;241m.\u001b[39msetdefault(\u001b[38;5;124m\"\u001b[39m\u001b[38;5;124mContent-Type\u001b[39m\u001b[38;5;124m\"\u001b[39m, content_type)\n\u001b[0;32m    277\u001b[0m extra_kw\u001b[38;5;241m.\u001b[39mupdate(urlopen_kw)\n\u001b[1;32m--> 279\u001b[0m \u001b[38;5;28;01mreturn\u001b[39;00m \u001b[38;5;28mself\u001b[39m\u001b[38;5;241m.\u001b[39murlopen(method, url, \u001b[38;5;241m*\u001b[39m\u001b[38;5;241m*\u001b[39mextra_kw)\n",
      "File \u001b[1;32mc:\\Users\\USER\\AppData\\Local\\Programs\\Python\\Python39\\lib\\site-packages\\urllib3\\poolmanager.py:444\u001b[0m, in \u001b[0;36mPoolManager.urlopen\u001b[1;34m(self, method, url, redirect, **kw)\u001b[0m\n\u001b[0;32m    442\u001b[0m     response \u001b[38;5;241m=\u001b[39m conn\u001b[38;5;241m.\u001b[39murlopen(method, url, \u001b[38;5;241m*\u001b[39m\u001b[38;5;241m*\u001b[39mkw)\n\u001b[0;32m    443\u001b[0m \u001b[38;5;28;01melse\u001b[39;00m:\n\u001b[1;32m--> 444\u001b[0m     response \u001b[38;5;241m=\u001b[39m conn\u001b[38;5;241m.\u001b[39murlopen(method, u\u001b[38;5;241m.\u001b[39mrequest_uri, \u001b[38;5;241m*\u001b[39m\u001b[38;5;241m*\u001b[39mkw)\n\u001b[0;32m    446\u001b[0m redirect_location \u001b[38;5;241m=\u001b[39m redirect \u001b[38;5;129;01mand\u001b[39;00m response\u001b[38;5;241m.\u001b[39mget_redirect_location()\n\u001b[0;32m    447\u001b[0m \u001b[38;5;28;01mif\u001b[39;00m \u001b[38;5;129;01mnot\u001b[39;00m redirect_location:\n",
      "File \u001b[1;32mc:\\Users\\USER\\AppData\\Local\\Programs\\Python\\Python39\\lib\\site-packages\\urllib3\\connectionpool.py:877\u001b[0m, in \u001b[0;36mHTTPConnectionPool.urlopen\u001b[1;34m(self, method, url, body, headers, retries, redirect, assert_same_host, timeout, pool_timeout, release_conn, chunked, body_pos, preload_content, decode_content, **response_kw)\u001b[0m\n\u001b[0;32m    872\u001b[0m \u001b[38;5;28;01mif\u001b[39;00m \u001b[38;5;129;01mnot\u001b[39;00m conn:\n\u001b[0;32m    873\u001b[0m     \u001b[38;5;66;03m# Try again\u001b[39;00m\n\u001b[0;32m    874\u001b[0m     log\u001b[38;5;241m.\u001b[39mwarning(\n\u001b[0;32m    875\u001b[0m         \u001b[38;5;124m\"\u001b[39m\u001b[38;5;124mRetrying (\u001b[39m\u001b[38;5;132;01m%r\u001b[39;00m\u001b[38;5;124m) after connection broken by \u001b[39m\u001b[38;5;124m'\u001b[39m\u001b[38;5;132;01m%r\u001b[39;00m\u001b[38;5;124m'\u001b[39m\u001b[38;5;124m: \u001b[39m\u001b[38;5;132;01m%s\u001b[39;00m\u001b[38;5;124m\"\u001b[39m, retries, err, url\n\u001b[0;32m    876\u001b[0m     )\n\u001b[1;32m--> 877\u001b[0m     \u001b[38;5;28;01mreturn\u001b[39;00m \u001b[38;5;28mself\u001b[39m\u001b[38;5;241m.\u001b[39murlopen(\n\u001b[0;32m    878\u001b[0m         method,\n\u001b[0;32m    879\u001b[0m         url,\n\u001b[0;32m    880\u001b[0m         body,\n\u001b[0;32m    881\u001b[0m         headers,\n\u001b[0;32m    882\u001b[0m         retries,\n\u001b[0;32m    883\u001b[0m         redirect,\n\u001b[0;32m    884\u001b[0m         assert_same_host,\n\u001b[0;32m    885\u001b[0m         timeout\u001b[38;5;241m=\u001b[39mtimeout,\n\u001b[0;32m    886\u001b[0m         pool_timeout\u001b[38;5;241m=\u001b[39mpool_timeout,\n\u001b[0;32m    887\u001b[0m         release_conn\u001b[38;5;241m=\u001b[39mrelease_conn,\n\u001b[0;32m    888\u001b[0m         chunked\u001b[38;5;241m=\u001b[39mchunked,\n\u001b[0;32m    889\u001b[0m         body_pos\u001b[38;5;241m=\u001b[39mbody_pos,\n\u001b[0;32m    890\u001b[0m         preload_content\u001b[38;5;241m=\u001b[39mpreload_content,\n\u001b[0;32m    891\u001b[0m         decode_content\u001b[38;5;241m=\u001b[39mdecode_content,\n\u001b[0;32m    892\u001b[0m         \u001b[38;5;241m*\u001b[39m\u001b[38;5;241m*\u001b[39mresponse_kw,\n\u001b[0;32m    893\u001b[0m     )\n\u001b[0;32m    895\u001b[0m \u001b[38;5;66;03m# Handle redirect?\u001b[39;00m\n\u001b[0;32m    896\u001b[0m redirect_location \u001b[38;5;241m=\u001b[39m redirect \u001b[38;5;129;01mand\u001b[39;00m response\u001b[38;5;241m.\u001b[39mget_redirect_location()\n",
      "File \u001b[1;32mc:\\Users\\USER\\AppData\\Local\\Programs\\Python\\Python39\\lib\\site-packages\\urllib3\\connectionpool.py:877\u001b[0m, in \u001b[0;36mHTTPConnectionPool.urlopen\u001b[1;34m(self, method, url, body, headers, retries, redirect, assert_same_host, timeout, pool_timeout, release_conn, chunked, body_pos, preload_content, decode_content, **response_kw)\u001b[0m\n\u001b[0;32m    872\u001b[0m \u001b[38;5;28;01mif\u001b[39;00m \u001b[38;5;129;01mnot\u001b[39;00m conn:\n\u001b[0;32m    873\u001b[0m     \u001b[38;5;66;03m# Try again\u001b[39;00m\n\u001b[0;32m    874\u001b[0m     log\u001b[38;5;241m.\u001b[39mwarning(\n\u001b[0;32m    875\u001b[0m         \u001b[38;5;124m\"\u001b[39m\u001b[38;5;124mRetrying (\u001b[39m\u001b[38;5;132;01m%r\u001b[39;00m\u001b[38;5;124m) after connection broken by \u001b[39m\u001b[38;5;124m'\u001b[39m\u001b[38;5;132;01m%r\u001b[39;00m\u001b[38;5;124m'\u001b[39m\u001b[38;5;124m: \u001b[39m\u001b[38;5;132;01m%s\u001b[39;00m\u001b[38;5;124m\"\u001b[39m, retries, err, url\n\u001b[0;32m    876\u001b[0m     )\n\u001b[1;32m--> 877\u001b[0m     \u001b[38;5;28;01mreturn\u001b[39;00m \u001b[38;5;28mself\u001b[39m\u001b[38;5;241m.\u001b[39murlopen(\n\u001b[0;32m    878\u001b[0m         method,\n\u001b[0;32m    879\u001b[0m         url,\n\u001b[0;32m    880\u001b[0m         body,\n\u001b[0;32m    881\u001b[0m         headers,\n\u001b[0;32m    882\u001b[0m         retries,\n\u001b[0;32m    883\u001b[0m         redirect,\n\u001b[0;32m    884\u001b[0m         assert_same_host,\n\u001b[0;32m    885\u001b[0m         timeout\u001b[38;5;241m=\u001b[39mtimeout,\n\u001b[0;32m    886\u001b[0m         pool_timeout\u001b[38;5;241m=\u001b[39mpool_timeout,\n\u001b[0;32m    887\u001b[0m         release_conn\u001b[38;5;241m=\u001b[39mrelease_conn,\n\u001b[0;32m    888\u001b[0m         chunked\u001b[38;5;241m=\u001b[39mchunked,\n\u001b[0;32m    889\u001b[0m         body_pos\u001b[38;5;241m=\u001b[39mbody_pos,\n\u001b[0;32m    890\u001b[0m         preload_content\u001b[38;5;241m=\u001b[39mpreload_content,\n\u001b[0;32m    891\u001b[0m         decode_content\u001b[38;5;241m=\u001b[39mdecode_content,\n\u001b[0;32m    892\u001b[0m         \u001b[38;5;241m*\u001b[39m\u001b[38;5;241m*\u001b[39mresponse_kw,\n\u001b[0;32m    893\u001b[0m     )\n\u001b[0;32m    895\u001b[0m \u001b[38;5;66;03m# Handle redirect?\u001b[39;00m\n\u001b[0;32m    896\u001b[0m redirect_location \u001b[38;5;241m=\u001b[39m redirect \u001b[38;5;129;01mand\u001b[39;00m response\u001b[38;5;241m.\u001b[39mget_redirect_location()\n",
      "File \u001b[1;32mc:\\Users\\USER\\AppData\\Local\\Programs\\Python\\Python39\\lib\\site-packages\\urllib3\\connectionpool.py:877\u001b[0m, in \u001b[0;36mHTTPConnectionPool.urlopen\u001b[1;34m(self, method, url, body, headers, retries, redirect, assert_same_host, timeout, pool_timeout, release_conn, chunked, body_pos, preload_content, decode_content, **response_kw)\u001b[0m\n\u001b[0;32m    872\u001b[0m \u001b[38;5;28;01mif\u001b[39;00m \u001b[38;5;129;01mnot\u001b[39;00m conn:\n\u001b[0;32m    873\u001b[0m     \u001b[38;5;66;03m# Try again\u001b[39;00m\n\u001b[0;32m    874\u001b[0m     log\u001b[38;5;241m.\u001b[39mwarning(\n\u001b[0;32m    875\u001b[0m         \u001b[38;5;124m\"\u001b[39m\u001b[38;5;124mRetrying (\u001b[39m\u001b[38;5;132;01m%r\u001b[39;00m\u001b[38;5;124m) after connection broken by \u001b[39m\u001b[38;5;124m'\u001b[39m\u001b[38;5;132;01m%r\u001b[39;00m\u001b[38;5;124m'\u001b[39m\u001b[38;5;124m: \u001b[39m\u001b[38;5;132;01m%s\u001b[39;00m\u001b[38;5;124m\"\u001b[39m, retries, err, url\n\u001b[0;32m    876\u001b[0m     )\n\u001b[1;32m--> 877\u001b[0m     \u001b[38;5;28;01mreturn\u001b[39;00m \u001b[38;5;28mself\u001b[39m\u001b[38;5;241m.\u001b[39murlopen(\n\u001b[0;32m    878\u001b[0m         method,\n\u001b[0;32m    879\u001b[0m         url,\n\u001b[0;32m    880\u001b[0m         body,\n\u001b[0;32m    881\u001b[0m         headers,\n\u001b[0;32m    882\u001b[0m         retries,\n\u001b[0;32m    883\u001b[0m         redirect,\n\u001b[0;32m    884\u001b[0m         assert_same_host,\n\u001b[0;32m    885\u001b[0m         timeout\u001b[38;5;241m=\u001b[39mtimeout,\n\u001b[0;32m    886\u001b[0m         pool_timeout\u001b[38;5;241m=\u001b[39mpool_timeout,\n\u001b[0;32m    887\u001b[0m         release_conn\u001b[38;5;241m=\u001b[39mrelease_conn,\n\u001b[0;32m    888\u001b[0m         chunked\u001b[38;5;241m=\u001b[39mchunked,\n\u001b[0;32m    889\u001b[0m         body_pos\u001b[38;5;241m=\u001b[39mbody_pos,\n\u001b[0;32m    890\u001b[0m         preload_content\u001b[38;5;241m=\u001b[39mpreload_content,\n\u001b[0;32m    891\u001b[0m         decode_content\u001b[38;5;241m=\u001b[39mdecode_content,\n\u001b[0;32m    892\u001b[0m         \u001b[38;5;241m*\u001b[39m\u001b[38;5;241m*\u001b[39mresponse_kw,\n\u001b[0;32m    893\u001b[0m     )\n\u001b[0;32m    895\u001b[0m \u001b[38;5;66;03m# Handle redirect?\u001b[39;00m\n\u001b[0;32m    896\u001b[0m redirect_location \u001b[38;5;241m=\u001b[39m redirect \u001b[38;5;129;01mand\u001b[39;00m response\u001b[38;5;241m.\u001b[39mget_redirect_location()\n",
      "File \u001b[1;32mc:\\Users\\USER\\AppData\\Local\\Programs\\Python\\Python39\\lib\\site-packages\\urllib3\\connectionpool.py:847\u001b[0m, in \u001b[0;36mHTTPConnectionPool.urlopen\u001b[1;34m(self, method, url, body, headers, retries, redirect, assert_same_host, timeout, pool_timeout, release_conn, chunked, body_pos, preload_content, decode_content, **response_kw)\u001b[0m\n\u001b[0;32m    844\u001b[0m \u001b[38;5;28;01melif\u001b[39;00m \u001b[38;5;28misinstance\u001b[39m(new_e, (\u001b[38;5;167;01mOSError\u001b[39;00m, HTTPException)):\n\u001b[0;32m    845\u001b[0m     new_e \u001b[38;5;241m=\u001b[39m ProtocolError(\u001b[38;5;124m\"\u001b[39m\u001b[38;5;124mConnection aborted.\u001b[39m\u001b[38;5;124m\"\u001b[39m, new_e)\n\u001b[1;32m--> 847\u001b[0m retries \u001b[38;5;241m=\u001b[39m \u001b[43mretries\u001b[49m\u001b[38;5;241;43m.\u001b[39;49m\u001b[43mincrement\u001b[49m\u001b[43m(\u001b[49m\n\u001b[0;32m    848\u001b[0m \u001b[43m    \u001b[49m\u001b[43mmethod\u001b[49m\u001b[43m,\u001b[49m\u001b[43m \u001b[49m\u001b[43murl\u001b[49m\u001b[43m,\u001b[49m\u001b[43m \u001b[49m\u001b[43merror\u001b[49m\u001b[38;5;241;43m=\u001b[39;49m\u001b[43mnew_e\u001b[49m\u001b[43m,\u001b[49m\u001b[43m \u001b[49m\u001b[43m_pool\u001b[49m\u001b[38;5;241;43m=\u001b[39;49m\u001b[38;5;28;43mself\u001b[39;49m\u001b[43m,\u001b[49m\u001b[43m \u001b[49m\u001b[43m_stacktrace\u001b[49m\u001b[38;5;241;43m=\u001b[39;49m\u001b[43msys\u001b[49m\u001b[38;5;241;43m.\u001b[39;49m\u001b[43mexc_info\u001b[49m\u001b[43m(\u001b[49m\u001b[43m)\u001b[49m\u001b[43m[\u001b[49m\u001b[38;5;241;43m2\u001b[39;49m\u001b[43m]\u001b[49m\n\u001b[0;32m    849\u001b[0m \u001b[43m\u001b[49m\u001b[43m)\u001b[49m\n\u001b[0;32m    850\u001b[0m retries\u001b[38;5;241m.\u001b[39msleep()\n\u001b[0;32m    852\u001b[0m \u001b[38;5;66;03m# Keep track of the error for the retry warning.\u001b[39;00m\n",
      "File \u001b[1;32mc:\\Users\\USER\\AppData\\Local\\Programs\\Python\\Python39\\lib\\site-packages\\urllib3\\util\\retry.py:515\u001b[0m, in \u001b[0;36mRetry.increment\u001b[1;34m(self, method, url, response, error, _pool, _stacktrace)\u001b[0m\n\u001b[0;32m    513\u001b[0m \u001b[38;5;28;01mif\u001b[39;00m new_retry\u001b[38;5;241m.\u001b[39mis_exhausted():\n\u001b[0;32m    514\u001b[0m     reason \u001b[38;5;241m=\u001b[39m error \u001b[38;5;129;01mor\u001b[39;00m ResponseError(cause)\n\u001b[1;32m--> 515\u001b[0m     \u001b[38;5;28;01mraise\u001b[39;00m MaxRetryError(_pool, url, reason) \u001b[38;5;28;01mfrom\u001b[39;00m \u001b[38;5;21;01mreason\u001b[39;00m  \u001b[38;5;66;03m# type: ignore[arg-type]\u001b[39;00m\n\u001b[0;32m    517\u001b[0m log\u001b[38;5;241m.\u001b[39mdebug(\u001b[38;5;124m\"\u001b[39m\u001b[38;5;124mIncremented Retry for (url=\u001b[39m\u001b[38;5;124m'\u001b[39m\u001b[38;5;132;01m%s\u001b[39;00m\u001b[38;5;124m'\u001b[39m\u001b[38;5;124m): \u001b[39m\u001b[38;5;132;01m%r\u001b[39;00m\u001b[38;5;124m\"\u001b[39m, url, new_retry)\n\u001b[0;32m    519\u001b[0m \u001b[38;5;28;01mreturn\u001b[39;00m new_retry\n",
      "\u001b[1;31mMaxRetryError\u001b[0m: HTTPConnectionPool(host='localhost', port=53135): Max retries exceeded with url: /session/4dd2f10dbce28cde2c42563baa51d901/url (Caused by NewConnectionError('<urllib3.connection.HTTPConnection object at 0x000001A130F8F280>: Failed to establish a new connection: [WinError 10061] 대상 컴퓨터에서 연결을 거부했으므로 연결하지 못했습니다'))"
     ]
    }
   ],
   "source": [
    "## user-agent 확인\n",
    "driver.get(\"https://www.whatismybrowser.com/detect/what-is-my-user-agent\")"
   ]
  },
  {
   "cell_type": "markdown",
   "metadata": {},
   "source": [
    "- 우회"
   ]
  },
  {
   "cell_type": "code",
   "execution_count": 10,
   "metadata": {},
   "outputs": [
    {
     "name": "stdout",
     "output_type": "stream",
     "text": [
      "Requirement already satisfied: user_agent in c:\\users\\user\\appdata\\local\\programs\\python\\python39\\lib\\site-packages (0.1.10)\n",
      "Requirement already satisfied: six in c:\\users\\user\\appdata\\local\\programs\\python\\python39\\lib\\site-packages (from user_agent) (1.16.0)\n",
      "Note: you may need to restart the kernel to use updated packages.\n"
     ]
    },
    {
     "name": "stderr",
     "output_type": "stream",
     "text": [
      "WARNING: You are using pip version 21.1.3; however, version 24.0 is available.\n",
      "You should consider upgrading via the 'c:\\Users\\USER\\AppData\\Local\\Programs\\Python\\Python39\\python.exe -m pip install --upgrade pip' command.\n"
     ]
    }
   ],
   "source": [
    "pip install user_agent"
   ]
  },
  {
   "cell_type": "code",
   "execution_count": 11,
   "metadata": {},
   "outputs": [],
   "source": [
    "from user_agent import generate_user_agent, generate_navigator"
   ]
  },
  {
   "cell_type": "code",
   "execution_count": 12,
   "metadata": {},
   "outputs": [
    {
     "data": {
      "text/plain": [
       "'Mozilla/5.0 (compatible; MSIE 10.0; Windows NT 6.2; WOW64; Trident/6.0)'"
      ]
     },
     "execution_count": 12,
     "metadata": {},
     "output_type": "execute_result"
    }
   ],
   "source": [
    "from user_agent import generate_user_agent, generate_navigator\n",
    "user_agent = generate_user_agent()\n",
    "user_agent"
   ]
  },
  {
   "cell_type": "code",
   "execution_count": 13,
   "metadata": {},
   "outputs": [],
   "source": [
    "options = webdriver.ChromeOptions()\n",
    "options.add_argument(\n",
    "    f\"user-agent={user_agent}\"\n",
    ") ## 가짜 User-Agent 실행 \n",
    "driver = webdriver.Chrome(\n",
    "    service=ChromeService(ChromeDriverManager().install()), options=options\n",
    ") ## 크롬드라이버를 설치하고 옵션을 적용하여 실행\n",
    "driver.get(\"https://www.whatismybrowser.com/detect/what-is-my-user-agent\")"
   ]
  },
  {
   "cell_type": "markdown",
   "metadata": {},
   "source": [
    "## Ch1. 구글로 접속하기"
   ]
  },
  {
   "cell_type": "code",
   "execution_count": 14,
   "metadata": {},
   "outputs": [
    {
     "name": "stdout",
     "output_type": "stream",
     "text": [
      "이번 User-Agent: Mozilla/5.0 (Macintosh; Intel Mac OS X 10_10_2) AppleWebKit/537.36 (KHTML, like Gecko) Chrome/85.0.4183.102 Safari/537.36\n"
     ]
    }
   ],
   "source": [
    "from selenium import webdriver ## 브라우저를 제어하기 위한 모듈\n",
    "from webdriver_manager.chrome import ChromeDriverManager ## 크롬 드라이버를 자동으로 설치해주는 모듈\n",
    "from selenium.webdriver.chrome.service import Service as ChromeService ## 크롬 브라우저 제어\n",
    "from selenium.webdriver.support.wait import WebDriverWait ## 웹 페이지가 로딩될 때까지 대기하기 위한 모듈\n",
    "from selenium.webdriver.support import expected_conditions as EC ## 대기 조건을 설정하기 위한 모듈\n",
    "from selenium.webdriver.common.by import By ## 웹 요소를 선택하기 위한 모듈\n",
    "from selenium.webdriver.common.keys import Keys ## 키보드 입력을 위한 모듈\n",
    "from user_agent import generate_user_agent, generate_navigator\n",
    "user_agent = generate_user_agent()\n",
    "print(\"이번 User-Agent:\", user_agent)\n",
    "\n",
    "options = webdriver.ChromeOptions()\n",
    "\n",
    "## ✅ User-Agent가 변경될때마다 class명이 변경되는 경우가 있음\n",
    "## 가짜 User-Agent 실행 \n",
    "user_agent = '''Mozilla/5.0 (Windows NT 6.2; WOW64; rv:45.0) Gecko/20100101 Firefox/45.0'''\n",
    "options.add_argument(\n",
    "    f\"user-agent={user_agent}\"\n",
    ") \n",
    "\n",
    "\n",
    "driver = webdriver.Chrome(\n",
    "    service=ChromeService(ChromeDriverManager().install()), options=options\n",
    ") ## 크롬드라이버를 설치하고 옵션을 적용하여 실행\n",
    "driver.get(\"https://google.com\")"
   ]
  },
  {
   "cell_type": "markdown",
   "metadata": {},
   "source": [
    "### 검색창 클릭하기"
   ]
  },
  {
   "cell_type": "code",
   "execution_count": null,
   "metadata": {},
   "outputs": [
    {
     "name": "stdout",
     "output_type": "stream",
     "text": [
      "Package                       Version\n",
      "----------------------------- -----------\n",
      "alabaster                     0.7.16\n",
      "appnope                       0.1.4\n",
      "asttokens                     2.4.1\n",
      "attrs                         23.2.0\n",
      "Babel                         2.15.0\n",
      "beautifulsoup4                4.12.3\n",
      "blinker                       1.8.2\n",
      "bounded-pool-executor         0.0.3\n",
      "bs4                           0.0.2\n",
      "category-encoders             2.6.3\n",
      "certifi                       2024.2.2\n",
      "cffi                          1.16.0\n",
      "charset-normalizer            3.3.2\n",
      "click                         8.1.7\n",
      "cloudpickle                   3.0.0\n",
      "colorama                      0.4.6\n",
      "comm                          0.2.2\n",
      "contourpy                     1.2.1\n",
      "cycler                        0.12.1\n",
      "Cython                        3.0.10\n",
      "dash                          2.17.0\n",
      "dash-core-components          2.0.0\n",
      "dash-html-components          2.0.0\n",
      "dash-table                    5.0.0\n",
      "debugpy                       1.8.1\n",
      "decorator                     5.1.1\n",
      "Deprecated                    1.2.14\n",
      "deprecation                   2.1.0\n",
      "docutils                      0.20.1\n",
      "eli5                          0.13.0\n",
      "exceptiongroup                1.2.1\n",
      "executing                     2.0.1\n",
      "fastjsonschema                2.19.1\n",
      "flask                         3.0.3\n",
      "fonttools                     4.51.0\n",
      "graphviz                      0.20.3\n",
      "h11                           0.14.0\n",
      "idna                          3.7\n",
      "imagesize                     1.4.1\n",
      "imbalanced-learn              0.12.2\n",
      "importlib-metadata            7.1.0\n",
      "importlib-resources           6.4.0\n",
      "iniconfig                     2.0.0\n",
      "ipykernel                     6.29.4\n",
      "ipython                       8.18.1\n",
      "ipywidgets                    8.1.2\n",
      "itsdangerous                  2.2.0\n",
      "jedi                          0.19.1\n",
      "jinja2                        3.1.4\n",
      "joblib                        1.3.2\n",
      "jsonschema                    4.22.0\n",
      "jsonschema-specifications     2023.12.1\n",
      "jupyter-client                8.6.1\n",
      "jupyter-core                  5.7.2\n",
      "jupyterlab-widgets            3.0.10\n",
      "kaleido                       0.2.1\n",
      "kiwisolver                    1.4.5\n",
      "lightgbm                      4.3.0\n",
      "llvmlite                      0.42.0\n",
      "MarkupSafe                    2.1.5\n",
      "matplotlib                    3.7.1\n",
      "matplotlib-inline             0.1.7\n",
      "missingno                     0.5.2\n",
      "nbformat                      5.10.4\n",
      "nest-asyncio                  1.6.0\n",
      "numba                         0.59.1\n",
      "numpy                         1.23.5\n",
      "numpydoc                      1.6.0\n",
      "orjson                        3.10.3\n",
      "outcome                       1.3.0.post0\n",
      "packaging                     24.0\n",
      "pandas                        1.5.2\n",
      "parso                         0.8.4\n",
      "patsy                         0.5.6\n",
      "PDPbox                        0.3.0\n",
      "pexpect                       4.9.0\n",
      "pillow                        10.3.0\n",
      "pip                           21.1.3\n",
      "platformdirs                  4.2.1\n",
      "plotly                        5.22.0\n",
      "plotly-resampler              0.10.0\n",
      "pluggy                        1.5.0\n",
      "pmdarima                      2.0.4\n",
      "pqdm                          0.2.0\n",
      "prompt-toolkit                3.0.43\n",
      "psutil                        5.9.8\n",
      "ptyprocess                    0.7.0\n",
      "pure-eval                     0.2.2\n",
      "pycaret                       3.1.0\n",
      "pycparser                     2.22\n",
      "pygments                      2.18.0\n",
      "pyod                          1.1.3\n",
      "pyparsing                     3.1.2\n",
      "PySocks                       1.7.1\n",
      "pytest                        8.2.0\n",
      "python-dateutil               2.9.0.post0\n",
      "python-dotenv                 1.0.1\n",
      "pytz                          2024.1\n",
      "pywin32                       306\n",
      "pyzmq                         26.0.3\n",
      "referencing                   0.35.1\n",
      "requests                      2.31.0\n",
      "retrying                      1.3.4\n",
      "rpds-py                       0.18.1\n",
      "schemdraw                     0.15\n",
      "scikit-base                   0.5.2\n",
      "scikit-learn                  1.2.1\n",
      "scikit-plot                   0.3.7\n",
      "scipy                         1.10.1\n",
      "seaborn                       0.13.2\n",
      "selenium                      4.20.0\n",
      "setuptools                    56.0.0\n",
      "shap                          0.41.0\n",
      "six                           1.16.0\n",
      "sklearn                       0.0\n",
      "sktime                        0.21.1\n",
      "slicer                        0.0.7\n",
      "sniffio                       1.3.1\n",
      "snowballstemmer               2.2.0\n",
      "sortedcontainers              2.4.0\n",
      "soupsieve                     2.5\n",
      "sphinx                        7.3.7\n",
      "sphinx-rtd-theme              2.0.0\n",
      "sphinxcontrib-applehelp       1.0.8\n",
      "sphinxcontrib-devhelp         1.0.6\n",
      "sphinxcontrib-htmlhelp        2.0.5\n",
      "sphinxcontrib-jquery          4.1\n",
      "sphinxcontrib-jsmath          1.0.1\n",
      "sphinxcontrib-qthelp          1.0.7\n",
      "sphinxcontrib-serializinghtml 1.1.10\n",
      "stack-data                    0.6.3\n",
      "statsmodels                   0.14.2\n",
      "sweetviz                      2.3.1\n",
      "tabulate                      0.9.0\n",
      "tbats                         1.1.3\n",
      "tenacity                      8.3.0\n",
      "threadpoolctl                 3.5.0\n",
      "tomli                         2.0.1\n",
      "tornado                       6.4\n",
      "tqdm                          4.66.4\n",
      "traitlets                     5.14.3\n",
      "trio                          0.25.0\n",
      "trio-websocket                0.11.1\n",
      "tsdownsample                  0.1.3\n",
      "typing-extensions             4.11.0\n",
      "tzdata                        2024.1\n",
      "urllib3                       2.2.1\n",
      "user-agent                    0.1.10\n",
      "wcwidth                       0.2.13\n",
      "webdriver-manager             4.0.1\n",
      "werkzeug                      3.0.3\n",
      "widgetsnbextension            4.0.10\n",
      "wrapt                         1.16.0\n",
      "wsproto                       1.2.0\n",
      "xgboost                       1.7.1\n",
      "xxhash                        3.4.1\n",
      "yellowbrick                   1.5\n",
      "zipp                          3.18.1\n",
      "Note: you may need to restart the kernel to use updated packages.\n"
     ]
    },
    {
     "name": "stderr",
     "output_type": "stream",
     "text": [
      "WARNING: You are using pip version 21.1.3; however, version 24.0 is available.\n",
      "You should consider upgrading via the 'c:\\Users\\USER\\AppData\\Local\\Programs\\Python\\Python39\\python.exe -m pip install --upgrade pip' command.\n"
     ]
    }
   ],
   "source": [
    "pip list"
   ]
  },
  {
   "cell_type": "code",
   "execution_count": 15,
   "metadata": {},
   "outputs": [],
   "source": [
    "### XPATH로 요소 찾기\n",
    "### /html/body/center/form/table/tbody/tr/td[2]/div/div/input\n",
    "### 요소가 보일때까지 대기\n",
    "### WebDriverWait 찾을 때 까지 10초동안 대기, 찾지 못하면 드랍시키는 함수\n",
    "waiting_searchbar = WebDriverWait(driver, 10).until(\n",
    "    EC.presence_of_element_located((By.XPATH, \"/html/body/center/form/table/tbody/tr/td[2]/div/div/input\"))\n",
    ")\n",
    "\n",
    "search_bar = driver.find_element(By.XPATH, \"/html/body/center/form/table/tbody/tr/td[2]/div/div/input\")"
   ]
  },
  {
   "cell_type": "code",
   "execution_count": 16,
   "metadata": {},
   "outputs": [
    {
     "data": {
      "text/plain": [
       "<selenium.webdriver.remote.webelement.WebElement (session=\"91396ac0303136b13d8ef06d3e7ec71b\", element=\"f.E5E31E0AC2F2F2A6071132B4C38B6542.d.E1E776CB56A8B72BFE139E1DE3BFFC30.e.3\")>"
      ]
     },
     "execution_count": 16,
     "metadata": {},
     "output_type": "execute_result"
    }
   ],
   "source": [
    "search_bar"
   ]
  },
  {
   "cell_type": "code",
   "execution_count": 17,
   "metadata": {},
   "outputs": [],
   "source": [
    "## 요소를 찾았으면 검색어 입력\n",
    "search_bar.send_keys(\"Python\")"
   ]
  },
  {
   "cell_type": "code",
   "execution_count": 18,
   "metadata": {},
   "outputs": [],
   "source": [
    "## 엔터키 입력\n",
    "search_bar.send_keys(Keys.ENTER)"
   ]
  },
  {
   "cell_type": "code",
   "execution_count": 19,
   "metadata": {},
   "outputs": [],
   "source": [
    "## 검색결과 페이지가 로딩될때까지 대기\n",
    "WebDriverWait(driver, 20).until(\n",
    "    EC.presence_of_element_located((By.CLASS_NAME, \"egMi0\"))\n",
    ")\n",
    "\n",
    "## 검색결과\n",
    "search_results = driver.find_elements(By.CLASS_NAME, \"egMi0\")"
   ]
  },
  {
   "cell_type": "code",
   "execution_count": 20,
   "metadata": {},
   "outputs": [
    {
     "data": {
      "text/plain": [
       "7"
      ]
     },
     "execution_count": 20,
     "metadata": {},
     "output_type": "execute_result"
    }
   ],
   "source": [
    "len(search_results)"
   ]
  },
  {
   "cell_type": "markdown",
   "metadata": {},
   "source": [
    "### Ch1-1. 데이터 파싱하기\n",
    "- WebElement : 웹페이지에 있는 요소를 의미함\n",
    "- https://selenium-python.readthedocs.io/"
   ]
  },
  {
   "cell_type": "code",
   "execution_count": 21,
   "metadata": {},
   "outputs": [
    {
     "name": "stdout",
     "output_type": "stream",
     "text": [
      "Title: Welcome to Python.org\n",
      "Title: Python - 나무위키\n",
      "Title: Python란 무엇인가요? - Python 언어 설명 - Amazon AWS\n",
      "Title: 1. 파이썬 시작하기 - 왕초보를 위한 Python: 쉽게 풀어 쓴 기초 문법과 ...\n",
      "Title: Python Tutorial - W3Schools\n",
      "Title: 파이썬 - 위키백과, 우리 모두의 백과사전\n",
      "Title: Get Started Tutorial for Python in Visual Studio Code\n"
     ]
    }
   ],
   "source": [
    "for idx, result in enumerate(search_results):\n",
    "    title = result.find_element(By.TAG_NAME, \"h3\")\n",
    "    \n",
    "    if title:\n",
    "        print(\"Title:\", title.text)\n",
    "    else:\n",
    "        print(\"Title: None\")"
   ]
  },
  {
   "cell_type": "markdown",
   "metadata": {},
   "source": [
    "### Ch1-2 요소 로딩까지 대기하기"
   ]
  },
  {
   "cell_type": "code",
   "execution_count": 22,
   "metadata": {},
   "outputs": [
    {
     "data": {
      "text/plain": [
       "[<selenium.webdriver.remote.webelement.WebElement (session=\"91396ac0303136b13d8ef06d3e7ec71b\", element=\"f.E5E31E0AC2F2F2A6071132B4C38B6542.d.DFCE9175E720315C11C835448A187FE0.e.81\")>,\n",
       " <selenium.webdriver.remote.webelement.WebElement (session=\"91396ac0303136b13d8ef06d3e7ec71b\", element=\"f.E5E31E0AC2F2F2A6071132B4C38B6542.d.DFCE9175E720315C11C835448A187FE0.e.82\")>,\n",
       " <selenium.webdriver.remote.webelement.WebElement (session=\"91396ac0303136b13d8ef06d3e7ec71b\", element=\"f.E5E31E0AC2F2F2A6071132B4C38B6542.d.DFCE9175E720315C11C835448A187FE0.e.83\")>,\n",
       " <selenium.webdriver.remote.webelement.WebElement (session=\"91396ac0303136b13d8ef06d3e7ec71b\", element=\"f.E5E31E0AC2F2F2A6071132B4C38B6542.d.DFCE9175E720315C11C835448A187FE0.e.84\")>,\n",
       " <selenium.webdriver.remote.webelement.WebElement (session=\"91396ac0303136b13d8ef06d3e7ec71b\", element=\"f.E5E31E0AC2F2F2A6071132B4C38B6542.d.DFCE9175E720315C11C835448A187FE0.e.85\")>,\n",
       " <selenium.webdriver.remote.webelement.WebElement (session=\"91396ac0303136b13d8ef06d3e7ec71b\", element=\"f.E5E31E0AC2F2F2A6071132B4C38B6542.d.DFCE9175E720315C11C835448A187FE0.e.86\")>,\n",
       " <selenium.webdriver.remote.webelement.WebElement (session=\"91396ac0303136b13d8ef06d3e7ec71b\", element=\"f.E5E31E0AC2F2F2A6071132B4C38B6542.d.DFCE9175E720315C11C835448A187FE0.e.87\")>,\n",
       " <selenium.webdriver.remote.webelement.WebElement (session=\"91396ac0303136b13d8ef06d3e7ec71b\", element=\"f.E5E31E0AC2F2F2A6071132B4C38B6542.d.DFCE9175E720315C11C835448A187FE0.e.88\")>,\n",
       " <selenium.webdriver.remote.webelement.WebElement (session=\"91396ac0303136b13d8ef06d3e7ec71b\", element=\"f.E5E31E0AC2F2F2A6071132B4C38B6542.d.DFCE9175E720315C11C835448A187FE0.e.89\")>,\n",
       " <selenium.webdriver.remote.webelement.WebElement (session=\"91396ac0303136b13d8ef06d3e7ec71b\", element=\"f.E5E31E0AC2F2F2A6071132B4C38B6542.d.DFCE9175E720315C11C835448A187FE0.e.90\")>]"
      ]
     },
     "execution_count": 22,
     "metadata": {},
     "output_type": "execute_result"
    }
   ],
   "source": [
    "## 검색결과 페이지가 로딩될때까지 대기\n",
    "WebDriverWait(driver, 20).until(\n",
    "    EC.presence_of_element_located((By.CLASS_NAME, \"Gx5Zad\"))\n",
    ")\n",
    "\n",
    "## 스크랩 부분\n",
    "screenshot_results = driver.find_elements(By.CLASS_NAME, \"Gx5Zad\")\n",
    "screenshot_results"
   ]
  },
  {
   "cell_type": "markdown",
   "metadata": {},
   "source": [
    "### Ch1-3 원하는 요소 스크린샷 찍기"
   ]
  },
  {
   "cell_type": "code",
   "execution_count": null,
   "metadata": {},
   "outputs": [],
   "source": [
    "# ./ 현재 경로"
   ]
  },
  {
   "cell_type": "code",
   "execution_count": 23,
   "metadata": {},
   "outputs": [],
   "source": [
    "import time\n",
    "for idx, i in enumerate(screenshot_results):\n",
    "    time.sleep(0.5)\n",
    "    if i.get_attribute(\"class\") == \"Gx5Zad fP1Qef xpd EtOod pkphOe\":\n",
    "        time.sleep(0.5)\n",
    "        screen = i.screenshot(f\"./screenshots/{idx}.png\")"
   ]
  },
  {
   "cell_type": "code",
   "execution_count": 25,
   "metadata": {},
   "outputs": [
    {
     "data": {
      "text/plain": [
       "'c:\\\\Users\\\\USER\\\\projects\\\\5week'"
      ]
     },
     "execution_count": 25,
     "metadata": {},
     "output_type": "execute_result"
    }
   ],
   "source": [
    "# 현재 경로 확인, 폴더같은 곳에 있어야 스크린샷 가능\n",
    "%pwd"
   ]
  },
  {
   "cell_type": "markdown",
   "metadata": {},
   "source": [
    "## Ch2. 브라우저 반응형 테스트하기"
   ]
  },
  {
   "cell_type": "markdown",
   "metadata": {},
   "source": [
    "### Ch2-1. 브라우저 화면크기 조정"
   ]
  },
  {
   "cell_type": "code",
   "execution_count": 40,
   "metadata": {},
   "outputs": [
    {
     "name": "stdout",
     "output_type": "stream",
     "text": [
      "이번 User-Agent: Mozilla/5.0 (Windows NT 6.3; Win64; x64; Trident/7.0; rv:11.0) like Gecko\n"
     ]
    }
   ],
   "source": [
    "from selenium import webdriver ## 브라우저를 제어하기 위한 모듈\n",
    "from webdriver_manager.chrome import ChromeDriverManager ## 크롬 드라이버를 자동으로 설치해주는 모듈\n",
    "from selenium.webdriver.chrome.service import Service as ChromeService ## 크롬 브라우저 제어\n",
    "from selenium.webdriver.support.wait import WebDriverWait ## 웹 페이지가 로딩될 때까지 대기하기 위한 모듈\n",
    "from selenium.webdriver.support import expected_conditions as EC ## 대기 조건을 설정하기 위한 모듈\n",
    "from selenium.webdriver.common.by import By ## 웹 요소를 선택하기 위한 모듈\n",
    "from selenium.webdriver.common.keys import Keys ## 키보드 입력을 위한 모듈\n",
    "import time\n",
    "from user_agent import generate_user_agent, generate_navigator\n",
    "user_agent = generate_user_agent()\n",
    "print(\"이번 User-Agent:\", user_agent)\n",
    "\n",
    "options = webdriver.ChromeOptions()\n",
    "\n",
    "## ✅ User-Agent가 변경될때마다 class명이 변경되는 경우가 있음\n",
    "## 가짜 User-Agent 실행 \n",
    "user_agent = '''Mozilla/5.0 (Windows NT 6.2; WOW64; rv:45.0) Gecko/20100101 Firefox/45.0'''\n",
    "options.add_argument(\n",
    "    f\"user-agent={user_agent}\"\n",
    ") \n",
    "\n",
    "\n",
    "driver = webdriver.Chrome(\n",
    "    service=ChromeService(ChromeDriverManager().install()), options=options\n",
    ") ## 크롬드라이버를 설치하고 옵션을 적용하여 실행\n",
    "driver.get(\"https://news.naver.com/\")"
   ]
  },
  {
   "cell_type": "markdown",
   "metadata": {},
   "source": [
    "- 브라우저 조종 방법"
   ]
  },
  {
   "cell_type": "code",
   "execution_count": 33,
   "metadata": {},
   "outputs": [],
   "source": [
    "# 화면이 최대로 커짐\n",
    "driver.maximize_window()"
   ]
  },
  {
   "cell_type": "code",
   "execution_count": 34,
   "metadata": {},
   "outputs": [
    {
     "data": {
      "text/plain": [
       "901"
      ]
     },
     "execution_count": 34,
     "metadata": {},
     "output_type": "execute_result"
    }
   ],
   "source": [
    "## 브라우저의 Y축 길이를 가져옴\n",
    "browser_height = driver.execute_script(\"return window.innerHeight\")\n",
    "browser_height"
   ]
  },
  {
   "cell_type": "code",
   "execution_count": 35,
   "metadata": {},
   "outputs": [
    {
     "data": {
      "text/plain": [
       "5574"
      ]
     },
     "execution_count": 35,
     "metadata": {},
     "output_type": "execute_result"
    }
   ],
   "source": [
    "## 스크롤 가능한 Y축 길이 측정\n",
    "total_height = driver.execute_script(\"return document.body.scrollHeight\")\n",
    "total_height"
   ]
  },
  {
   "cell_type": "code",
   "execution_count": 36,
   "metadata": {},
   "outputs": [],
   "source": [
    "## 브라우저 최상단으로 이동\n",
    "driver.execute_script(\"window.scrollTo(0, 0);\")"
   ]
  },
  {
   "cell_type": "code",
   "execution_count": 45,
   "metadata": {},
   "outputs": [
    {
     "name": "stdout",
     "output_type": "stream",
     "text": [
      "스크롤 횟수: 7 현재 1\n",
      "스크롤 횟수: 7 현재 2\n",
      "스크롤 횟수: 7 현재 3\n",
      "스크롤 횟수: 7 현재 4\n",
      "스크롤 횟수: 7 현재 5\n",
      "스크롤 횟수: 7 현재 6\n",
      "스크롤 횟수: 7 현재 7\n"
     ]
    }
   ],
   "source": [
    "for i in range(scroll_count):\n",
    "    cnt = i +1\n",
    "    print(\"스크롤 횟수:\", scroll_count, \"현재\", cnt )\n",
    "    driver.execute_script(f\"window.scrollTo(0, {browser_height*i});\")\n",
    "    time.sleep(2)"
   ]
  },
  {
   "cell_type": "code",
   "execution_count": 44,
   "metadata": {},
   "outputs": [
    {
     "data": {
      "text/plain": [
       "7"
      ]
     },
     "execution_count": 44,
     "metadata": {},
     "output_type": "execute_result"
    }
   ],
   "source": [
    "scroll_count"
   ]
  },
  {
   "cell_type": "code",
   "execution_count": 43,
   "metadata": {},
   "outputs": [],
   "source": [
    "driver.maximize_window()\n",
    "## 브라우저의 Y축 길이를 가져옴\n",
    "browser_height = driver.execute_script(\"return window.innerHeight\")\n",
    "## 스크롤 가능한 Y축 길이 측정\n",
    "total_height = driver.execute_script(\"return document.body.scrollHeight\")\n",
    "scroll_count = total_height // browser_height + 1"
   ]
  },
  {
   "cell_type": "code",
   "execution_count": 46,
   "metadata": {},
   "outputs": [
    {
     "name": "stdout",
     "output_type": "stream",
     "text": [
      "스크롤 횟수: 7 현재 1\n",
      "스크롤 횟수: 7 현재 2\n",
      "스크롤 횟수: 7 현재 3\n",
      "스크롤 횟수: 7 현재 4\n",
      "스크롤 횟수: 7 현재 5\n",
      "스크롤 횟수: 7 현재 6\n",
      "스크롤 횟수: 7 현재 7\n"
     ]
    }
   ],
   "source": [
    "for i in range(scroll_count):\n",
    "    cnt = i +1\n",
    "    print(\"스크롤 횟수:\", scroll_count, \"현재\", cnt )\n",
    "    driver.execute_script(f\"window.scrollTo(0, {browser_height*i});\")\n",
    "    time.sleep(2)"
   ]
  },
  {
   "cell_type": "code",
   "execution_count": 48,
   "metadata": {},
   "outputs": [
    {
     "name": "stdout",
     "output_type": "stream",
     "text": [
      "브라우저의 Y축 길이: 754\n",
      "브라우저의 크기 변경: 320 754\n",
      "브라우저 최상단 이동\n",
      "브라우저 크기: x:320 y:754, 전체 Y축 길이: 5365\n",
      "스크롤 횟수: 8\n",
      "스크롤 횟수: 8 현재 1\n",
      "스크롤 횟수: 8 현재 2\n",
      "스크롤 횟수: 8 현재 3\n",
      "스크롤 횟수: 8 현재 4\n",
      "스크롤 횟수: 8 현재 5\n",
      "스크롤 횟수: 8 현재 6\n",
      "스크롤 횟수: 8 현재 7\n",
      "스크롤 횟수: 8 현재 8\n",
      "브라우저의 Y축 길이: 754\n",
      "브라우저의 크기 변경: 480 754\n",
      "브라우저 최상단 이동\n",
      "브라우저 크기: x:480 y:754, 전체 Y축 길이: 5365\n",
      "스크롤 횟수: 8\n",
      "스크롤 횟수: 8 현재 1\n",
      "스크롤 횟수: 8 현재 2\n",
      "스크롤 횟수: 8 현재 3\n",
      "스크롤 횟수: 8 현재 4\n",
      "스크롤 횟수: 8 현재 5\n",
      "스크롤 횟수: 8 현재 6\n",
      "스크롤 횟수: 8 현재 7\n",
      "스크롤 횟수: 8 현재 8\n",
      "브라우저의 Y축 길이: 754\n",
      "브라우저의 크기 변경: 960 754\n",
      "브라우저 최상단 이동\n",
      "브라우저 크기: x:960 y:754, 전체 Y축 길이: 3487\n",
      "스크롤 횟수: 5\n",
      "스크롤 횟수: 5 현재 1\n",
      "스크롤 횟수: 5 현재 2\n",
      "스크롤 횟수: 5 현재 3\n",
      "스크롤 횟수: 5 현재 4\n",
      "스크롤 횟수: 5 현재 5\n",
      "브라우저의 Y축 길이: 754\n",
      "브라우저의 크기 변경: 1366 754\n",
      "브라우저 최상단 이동\n",
      "브라우저 크기: x:1366 y:754, 전체 Y축 길이: 5574\n",
      "스크롤 횟수: 8\n",
      "스크롤 횟수: 8 현재 1\n",
      "스크롤 횟수: 8 현재 2\n",
      "스크롤 횟수: 8 현재 3\n",
      "스크롤 횟수: 8 현재 4\n",
      "스크롤 횟수: 8 현재 5\n",
      "스크롤 횟수: 8 현재 6\n",
      "스크롤 횟수: 8 현재 7\n",
      "스크롤 횟수: 8 현재 8\n",
      "브라우저의 Y축 길이: 754\n",
      "브라우저의 크기 변경: 1920 754\n",
      "브라우저 최상단 이동\n",
      "브라우저 크기: x:1920 y:754, 전체 Y축 길이: 5574\n",
      "스크롤 횟수: 8\n",
      "스크롤 횟수: 8 현재 1\n",
      "스크롤 횟수: 8 현재 2\n",
      "스크롤 횟수: 8 현재 3\n",
      "스크롤 횟수: 8 현재 4\n",
      "스크롤 횟수: 8 현재 5\n",
      "스크롤 횟수: 8 현재 6\n",
      "스크롤 횟수: 8 현재 7\n",
      "스크롤 횟수: 8 현재 8\n"
     ]
    }
   ],
   "source": [
    "sizes = [320, 480, 960, 1366, 1920]\n",
    "## 브라우저의 Y축 길이를 가져옴\n",
    "browser_height = driver.execute_script(\"return window.innerHeight\")\n",
    "\n",
    "for size in sizes:    \n",
    "    time.sleep(1)\n",
    "    print(\"브라우저의 Y축 길이:\", browser_height)\n",
    "\n",
    "    ## 브라우저의 크기를 변경\n",
    "    driver.set_window_size(size, browser_height)\n",
    "    print(\"브라우저의 크기 변경:\", size, browser_height)\n",
    "    time.sleep(1)\n",
    "\n",
    "    ## 브라우저 최상단으로 이동\n",
    "    driver.execute_script(\"window.scrollTo(0, 0);\")\n",
    "    time.sleep(1)\n",
    "    print(\"브라우저 최상단 이동\")\n",
    "\n",
    "    ## 전체 Y축 길이 측정\n",
    "    total_height = driver.execute_script(\"return document.body.scrollHeight\")\n",
    "    print(f\"브라우저 크기: x:{size} y:{browser_height}, 전체 Y축 길이: {total_height}\")\n",
    "    scroll_count = total_height // browser_height + 1\n",
    "    print(f\"스크롤 횟수: {scroll_count}\")\n",
    "    \n",
    "    for i in range(scroll_count):\n",
    "        cnt = i +1\n",
    "        print(\"스크롤 횟수:\", scroll_count, \"현재\", cnt )\n",
    "        driver.execute_script(f\"window.scrollTo(0, {browser_height*i});\")\n",
    "        ## 전체화면 스크린샷 저장\n",
    "        driver.save_screenshot(f\"./screenshots/{size}_{cnt}.png\")\n",
    "        time.sleep(2)\n",
    "\n",
    "driver.quit()"
   ]
  },
  {
   "cell_type": "markdown",
   "metadata": {},
   "source": [
    "### Ch3. 스마트스토어 마이닝\n",
    "- 사이트 분석 후 무한 스크롤 가능하다는 것을 알 수 있음"
   ]
  },
  {
   "cell_type": "code",
   "execution_count": 49,
   "metadata": {},
   "outputs": [],
   "source": [
    "from bs4 import BeautifulSoup\n",
    "from selenium import webdriver ## 브라우저 제어\n",
    "from selenium.webdriver.chrome.service import Service as ChromeService ## 크롬 브라우저 제어\n",
    "from selenium.webdriver.common.keys import Keys ## 키보드 제어\n",
    "from selenium.webdriver.support import expected_conditions as EC ## 웹페이지 조건 기다림\n",
    "from selenium.webdriver.support.ui import WebDriverWait ## 웹페이지 대기\n",
    "from selenium.webdriver.common.by import By ## 웹페이지 요소\n",
    "\n",
    "from webdriver_manager.chrome import ChromeDriverManager\n",
    "\n",
    "\n",
    "import warnings\n",
    "warnings.filterwarnings(action=\"ignore\")\n",
    "import re\n",
    "import pandas as pd\n",
    "import datetime\n",
    "import time\n",
    "import os\n",
    "from tqdm import tqdm\n",
    "\n",
    "today = datetime.date.today().strftime(\"%Y-%m-%d\")\n",
    "\n",
    "options = webdriver.ChromeOptions()\n",
    "options.add_argument(\"--disable-web-security\") ## 웹 보안 해제\n",
    "options.add_argument(\"--disable-site-isolation-trials\") ## 사이트 격리 해제\n",
    "options.add_argument(\"--window-size=1440,1200\") ## 창 크기\n",
    "\n",
    "# options.add_argument('headless') ## 헤드리스\n",
    "\n",
    "Keys = Keys()\n",
    "options.add_argument(\n",
    "    \"user-agent=Mozilla/5.0 (Macintosh; Intel Mac OS X 10_12_5) AppleWebKit/537.36 (KHTML, like Gecko) Chrome/49.0.2564.116 Safari/537.37\"\n",
    ") ## 가짜 User-Agent 실행 (크롬 49 버전으로 위장)\n",
    "\n",
    "\n",
    "driver = webdriver.Chrome(\n",
    "    service=ChromeService(ChromeDriverManager().install()), options=options\n",
    ") ## 크롬드라이버를 설치하고 옵션을 적용하여 실행\n",
    "\n",
    "driver.implicitly_wait(10) ## 웹페이지가 로드되는 시간을 암묵적 대기, 5초 기다림"
   ]
  },
  {
   "cell_type": "code",
   "execution_count": 50,
   "metadata": {},
   "outputs": [],
   "source": [
    "BASE_URL = '''https://www.wanted.co.kr/search?query=%EB%8D%B0%EC%9D%B4%ED%84%B0+%EB%B6%84%EC%84%9D&tab=position'''\n",
    "\n",
    "driver.get(BASE_URL)\n",
    "\n",
    "html = driver.page_source\n",
    "soup = BeautifulSoup(html, 'html.parser')"
   ]
  },
  {
   "cell_type": "code",
   "execution_count": 51,
   "metadata": {},
   "outputs": [],
   "source": [
    "time.sleep(1)\n",
    "\n",
    "## 무한 스크롤 아래로 내리기\n",
    "SCROLL_PAUSE_TIME = 2\n",
    "last_height = driver.execute_script(\"return document.body.scrollHeight\")\n",
    "\n",
    "while True:\n",
    "    driver.execute_script(\"window.scrollTo(0, document.body.scrollHeight);\")\n",
    "    time.sleep(SCROLL_PAUSE_TIME)\n",
    "    new_height = driver.execute_script(\"return document.body.scrollHeight\")\n",
    "    if new_height == last_height:\n",
    "        break\n",
    "    last_height = new_height"
   ]
  },
  {
   "cell_type": "markdown",
   "metadata": {},
   "source": [
    "- BeautifulSoup 복습"
   ]
  },
  {
   "cell_type": "code",
   "execution_count": 52,
   "metadata": {},
   "outputs": [],
   "source": [
    "## 페이지 소스 가져오기\n",
    "htmls = driver.page_source\n",
    "soups = BeautifulSoup(htmls, 'html.parser')\n",
    "\n",
    "items = soups.find_all('div', {'class': 'JobCard_container__FqChn JobCard_container--variant-card__znjV9'})"
   ]
  },
  {
   "cell_type": "code",
   "execution_count": 54,
   "metadata": {},
   "outputs": [
    {
     "data": {
      "text/plain": [
       "128"
      ]
     },
     "execution_count": 54,
     "metadata": {},
     "output_type": "execute_result"
    }
   ],
   "source": [
    "len(items)"
   ]
  },
  {
   "cell_type": "code",
   "execution_count": 55,
   "metadata": {},
   "outputs": [],
   "source": [
    "## index를 유지하면서 중복되는 요소 제거\n",
    "items = list({item.text: item for item in items}.values())"
   ]
  },
  {
   "cell_type": "code",
   "execution_count": 56,
   "metadata": {},
   "outputs": [
    {
     "data": {
      "text/plain": [
       "119"
      ]
     },
     "execution_count": 56,
     "metadata": {},
     "output_type": "execute_result"
    }
   ],
   "source": [
    "len(items)"
   ]
  },
  {
   "cell_type": "code",
   "execution_count": 57,
   "metadata": {},
   "outputs": [],
   "source": [
    "target_url_list = []\n",
    "for item in items:\n",
    "    url = 'https://www.wanted.co.kr'+item.find('a')['href']\n",
    "    target_url_list.append(url)"
   ]
  },
  {
   "cell_type": "markdown",
   "metadata": {},
   "source": [
    "- 셀레니움"
   ]
  },
  {
   "cell_type": "code",
   "execution_count": 58,
   "metadata": {},
   "outputs": [
    {
     "data": {
      "text/plain": [
       "<selenium.webdriver.remote.webelement.WebElement (session=\"f8bee01975468e49f22628077ab517a0\", element=\"f.F477282E9B5C5FB01D77499CD83A21B3.d.F8DB0361F6FE7032B15A286598F75207.e.8537\")>"
      ]
     },
     "execution_count": 58,
     "metadata": {},
     "output_type": "execute_result"
    }
   ],
   "source": [
    "driver.find_element(By.XPATH, '//*[@id=\"__next\"]/main/div[1]/div/section/header/div/div[1]/a')"
   ]
  },
  {
   "cell_type": "code",
   "execution_count": 60,
   "metadata": {},
   "outputs": [
    {
     "data": {
      "text/plain": [
       "<selenium.webdriver.remote.webelement.WebElement (session=\"f8bee01975468e49f22628077ab517a0\", element=\"f.F477282E9B5C5FB01D77499CD83A21B3.d.F8DB0361F6FE7032B15A286598F75207.e.8572\")>"
      ]
     },
     "execution_count": 60,
     "metadata": {},
     "output_type": "execute_result"
    }
   ],
   "source": [
    "driver.find_element(By.XPATH, '//*[@id=\"__next\"]/main/div[1]/div/section/header/h1')"
   ]
  },
  {
   "cell_type": "code",
   "execution_count": 63,
   "metadata": {},
   "outputs": [],
   "source": [
    "driver.find_element(By.XPATH, '//*[@id=\"__next\"]/main/div[1]/div/section/section/article[1]/div/button/span[2]').click()"
   ]
  },
  {
   "cell_type": "code",
   "execution_count": 65,
   "metadata": {},
   "outputs": [],
   "source": [
    "html = driver.page_source\n",
    "soup = BeautifulSoup(html, 'html.parser')\n",
    "\n",
    "## 상세 더보기 버튼 누르기\n",
    "try:\n",
    "    driver.find_element(By.XPATH, '//*[@id=\"__next\"]/main/div[1]/div/section/section/article[1]/div/button/span[2]').click()\n",
    "except:\n",
    "    pass\n",
    "\n",
    "position_detail = soup.find('section', {'class': 'JobContent_descriptionWrapper__SM4UD'})\\\n",
    "                    .find('article', {'class': 'JobDescription_JobDescription__VWfcb'})"
   ]
  },
  {
   "cell_type": "code",
   "execution_count": 67,
   "metadata": {},
   "outputs": [
    {
     "data": {
      "text/plain": [
       "'포지션 상세부릉은 대한민국의 물류 시장을 혁신하고 있는 기술 스타트업 입니다. 화주사와 상점주에게는 안정적인 주문 생성을 위한 다양한 연결 수단(API 연동, 부릉 POS, 모바일 POS 앱)을 제공해 드리고 있고, 사장님 사이트를 통해 빅데이터 기반의 배달 분석 정보를 전달드리고 있습니다.라이더에게는 최적의 배송 플랫폼인 부릉 기사 앱, 통합관제센터, 실시간 정산 시스템을 제공하여, 배송 품질을 높이면서도 안정적으로 수익을 벌어갈 수 있게 해 드립니다. 전국에 구축된 300여개의 부릉 스테이션을 통해 기사들에게 쉼터이자 물류거점을 제공하고 있습니다.주요업무• 지표 개발 및 데이터 파이프라인 구축 개발• 추천 시스템 모델 디버깅 및 성능 개선• 추천 시스템 API 개발• ML 인프라 운영* Tech Stack : (https://stackshare.io/mesh-korea-co-ltd/data-scientist)자격요건- ML 시스템 개발 경험이 있으신 분- 웹 서비스와 서비스 인프라에 대한 이해가 있으신 분- 빅데이터에 대한 알고리즘 작성 및 코딩 능력을 보유하신 분- Python, Java 중 한 가지 이상 언어에 능숙하신 분상세 정보 더 보기'"
      ]
     },
     "execution_count": 67,
     "metadata": {},
     "output_type": "execute_result"
    }
   ],
   "source": [
    "position_detail.text"
   ]
  },
  {
   "cell_type": "markdown",
   "metadata": {},
   "source": [
    "- 팀소개"
   ]
  },
  {
   "cell_type": "code",
   "execution_count": 69,
   "metadata": {},
   "outputs": [],
   "source": [
    "## 상세정보 클릭\n",
    "driver.find_element(By.XPATH, '//*[@id=\"__next\"]/main/div[1]/div/section/section/article[1]/div/button/span[2]').click()\n",
    "\n",
    "## 페이지 소스 업데이트\n",
    "html = driver.page_source\n",
    "soup = BeautifulSoup(html, 'html.parser')\n",
    "position_detail = soup.find('section', {'class': 'JobContent_descriptionWrapper__SM4UD'})\\\n",
    "                    .find('article', {'class': 'JobDescription_JobDescription__VWfcb'})"
   ]
  },
  {
   "cell_type": "code",
   "execution_count": 70,
   "metadata": {},
   "outputs": [],
   "source": [
    "team_info = position_detail.find('p').text"
   ]
  },
  {
   "cell_type": "code",
   "execution_count": 71,
   "metadata": {},
   "outputs": [
    {
     "data": {
      "text/plain": [
       "'부릉은 대한민국의 물류 시장을 혁신하고 있는 기술 스타트업 입니다. 화주사와 상점주에게는 안정적인 주문 생성을 위한 다양한 연결 수단(API 연동, 부릉 POS, 모바일 POS 앱)을 제공해 드리고 있고, 사장님 사이트를 통해 빅데이터 기반의 배달 분석 정보를 전달드리고 있습니다.라이더에게는 최적의 배송 플랫폼인 부릉 기사 앱, 통합관제센터, 실시간 정산 시스템을 제공하여, 배송 품질을 높이면서도 안정적으로 수익을 벌어갈 수 있게 해 드립니다. 전국에 구축된 300여개의 부릉 스테이션을 통해 기사들에게 쉼터이자 물류거점을 제공하고 있습니다.'"
      ]
     },
     "execution_count": 71,
     "metadata": {},
     "output_type": "execute_result"
    }
   ],
   "source": [
    "team_info"
   ]
  },
  {
   "cell_type": "code",
   "execution_count": 72,
   "metadata": {},
   "outputs": [],
   "source": [
    "team_info = position_detail.find('p').text\n",
    "main_job_title = position_detail.find_all('div', {'class': 'JobDescription_JobDescription__paragraph__Iwfqn'})[0].find('h3').text\n",
    "main_job_content = position_detail.find_all('div', {'class': 'JobDescription_JobDescription__paragraph__Iwfqn'})[0].find('p').text\n",
    "requirement_title = position_detail.find_all('div', {'class': 'JobDescription_JobDescription__paragraph__Iwfqn'})[1].find('h3').text\n",
    "requirement_content = position_detail.find_all('div', {'class': 'JobDescription_JobDescription__paragraph__Iwfqn'})[1].find('p').text\n",
    "\n",
    "preferred_title = position_detail.find_all('div', {'class': 'JobDescription_JobDescription__paragraph__Iwfqn'})[2].find('h3').text\n",
    "preferred_content = position_detail.find_all('div', {'class': 'JobDescription_JobDescription__paragraph__Iwfqn'})[2].find('p').text\n",
    "wellbeing_title = position_detail.find_all('div', {'class': 'JobDescription_JobDescription__paragraph__Iwfqn'})[3].find('h3').text\n",
    "wellbeing_content = position_detail.find_all('div', {'class': 'JobDescription_JobDescription__paragraph__Iwfqn'})[3].find('p').text"
   ]
  },
  {
   "cell_type": "markdown",
   "metadata": {},
   "source": [
    "- 새로운 페이지로 연습"
   ]
  },
  {
   "cell_type": "code",
   "execution_count": 73,
   "metadata": {},
   "outputs": [],
   "source": [
    "html = driver.page_source\n",
    "soup = BeautifulSoup(html, 'html.parser')\n",
    "\n",
    "## 상세 더보기 버튼 누르기\n",
    "try:\n",
    "    driver.find_element(By.XPATH, '//*[@id=\"__next\"]/main/div[1]/div/section/section/article[1]/div/button/span[2]').click()\n",
    "except:\n",
    "    pass\n",
    "\n",
    "position_detail = soup.find('section', {'class': 'JobContent_descriptionWrapper__SM4UD'})\\\n",
    "                    .find('article', {'class': 'JobDescription_JobDescription__VWfcb'})"
   ]
  },
  {
   "cell_type": "code",
   "execution_count": 74,
   "metadata": {},
   "outputs": [
    {
     "data": {
      "text/plain": [
       "'포지션 상세인터엑스는 제조AI 및 자율공장 전문 파트너 입니다.누구나 쉽게 빅데이터를 분석하고 쉽게 현장에 적용할 수 있도록 인공지능(AI) 기반 제조 빅데이터 분석 서비스 플랫폼을 제공하고 있습니다.인터엑스의 제조 빅데이터 분석 서비스는 현장의 데이터 수집부터 데이터 품질관리, Advanced 빅데이터 분석,  AI Library를 바탕으로 한 지능화된 공정 예측과 최적화를 통해 기업의 성장을 지원합니다.저희의 목표는 IoT(사물 인터넷)의 결합으로 개선된 프로세스를 현장에 쉽게 적용하여 스마트 제조 환경을 구현하는 것과 제조 빅데이터가 가지는 무궁무진한 가능성을 제조 기업 모두가 누리며 함께 성장하는 성공 스토리를 만드는데 있습니다.저희와 함께 제조AI 성공 스토리를 만들어갈 유능한 분들의 많은 지원 부탁 드립니다.주요업무[함께하시면 맡게 될 업무입니다!]- 이미지 및 영상 데이터 처리- 제조업 AI, 머신러닝, 딥러닝 알고리즘 최신 기술 연구 및 개발- 제조업 Defect classification, detection, segmentation, measurement 에 적용 가능한 알고리즘 연구 및 개발- 알고리즘 고도화자격요건[이런 분이 필요해요!] - 이미지 데이터에 대한 기초 지식이 있으신 분- Python을 활용하여 머신러닝/딥러닝 프로젝트 경험이 있으신 분- OpenCV, Numpy, Tensorflow 및 Pytorch 사용 경험이 있으신 분- CNN 및 transformer 사용 경험이 있으신 분- 최신 기술에 관심이 많은 분- 주도적으로 일을 만들고, 책임감 있게 리드하시는 분- 다른 직군과 함께 문제를 정의하고 해결책을 찾을 수 있는 분 [업무에 꼭 필요한 기술 스택 입니다]- Python- OpenCV, Numpy- Pytorch or Tensorflow상세 정보 더 보기'"
      ]
     },
     "execution_count": 74,
     "metadata": {},
     "output_type": "execute_result"
    }
   ],
   "source": [
    "position_detail.text"
   ]
  },
  {
   "cell_type": "markdown",
   "metadata": {},
   "source": [
    "- 기술스택"
   ]
  },
  {
   "cell_type": "code",
   "execution_count": 75,
   "metadata": {},
   "outputs": [],
   "source": [
    "html = driver.page_source\n",
    "soup = BeautifulSoup(html, 'html.parser')\n",
    "\n",
    "# JobSkillTags_JobSkillTags__V1tZr\n",
    "skill_stacks = soup.find('section', {'class': 'JobContent_descriptionWrapper__SM4UD'})\\\n",
    "                    .find('article', {'class': 'JobSkillTags_JobSkillTags__V1tZr'})\n",
    "\n",
    "skill_title = skill_stacks.find('h2').text\n",
    "skill_list = [i.text for i in skill_stacks.find('ul').find_all('li')]"
   ]
  },
  {
   "cell_type": "code",
   "execution_count": null,
   "metadata": {},
   "outputs": [],
   "source": [
    "def detail_crawl(driver, idx):\n",
    "    \n",
    "    target_url_list = []\n",
    "    for item in items:\n",
    "        url = 'https://www.wanted.co.kr'+item.find('a')['href']\n",
    "        target_url_list.append(url)\n",
    "    "
   ]
  },
  {
   "cell_type": "code",
   "execution_count": 76,
   "metadata": {},
   "outputs": [
    {
     "data": {
      "text/plain": [
       "<selenium.webdriver.remote.webelement.WebElement (session=\"f8bee01975468e49f22628077ab517a0\", element=\"f.F477282E9B5C5FB01D77499CD83A21B3.d.14591837E53934E185661B77544CD823.e.20817\")>"
      ]
     },
     "execution_count": 76,
     "metadata": {},
     "output_type": "execute_result"
    }
   ],
   "source": [
    "driver.find_element(By.XPATH, '//*[@id=\"search_tabpanel_position\"]/div/div[3]')"
   ]
  },
  {
   "cell_type": "code",
   "execution_count": null,
   "metadata": {},
   "outputs": [],
   "source": [
    "driver.find_element(By.XPATH, '//*[@id=\"__next\"]/main/div[1]/div/section/section/article[1]/div/button/span[2]').click()"
   ]
  },
  {
   "cell_type": "markdown",
   "metadata": {},
   "source": [
    "- 자동 함수 설정(구조 생각하고 만들어야 함)"
   ]
  },
  {
   "cell_type": "code",
   "execution_count": 77,
   "metadata": {},
   "outputs": [],
   "source": [
    "def detail_crawl(driver, idx):\n",
    "\n",
    "    team_info = None\n",
    "    main_job_title = None\n",
    "    main_job_content = None\n",
    "    requirement_title = None\n",
    "    requirement_content = None\n",
    "    preferred_title = None\n",
    "    preferred_content = None\n",
    "    wellbeing_title = None\n",
    "    wellbeing_content = None\n",
    "    skill_title = None\n",
    "    skill_list = None\n",
    "    address = None\n",
    "    current_url = None\n",
    "\n",
    "\n",
    "    ## 상세 더보기 버튼 누르기\n",
    "    try:\n",
    "        driver.find_element('xpath', '//*[@id=\"__next\"]/main/div[1]/div/section/section/article[1]/div/button/span[2]').click()\n",
    "    except Exception as e:\n",
    "        print(idx, e)\n",
    "        pass\n",
    "\n",
    "    time.sleep(1) # 쉬면서 요소 찾을 휴식 주기\n",
    "    \n",
    "    # 상세 더보기 버튼 누른 후 화면 다시 불러오고\n",
    "    html = driver.page_source\n",
    "    soup = BeautifulSoup(html, 'html.parser')\n",
    "\n",
    "    company_name = driver.find_element('xpath', '//*[@id=\"__next\"]/main/div[1]/div/section/header/div/div[1]/a').text\n",
    "    title = driver.find_element('xpath', '//*[@id=\"__next\"]/main/div[1]/div/section/header/h1').text\n",
    "    try:\n",
    "        target_elements1 = driver.find_element('xpath', '//*[@id=\"__next\"]/main/div[1]/div/section/section/article[1]/div/div[1]/h3')\n",
    "        # 요소가 화면에 보이도록 스크롤\n",
    "        driver.execute_script(\"arguments[0].scrollIntoView();\", target_elements1)\n",
    "\n",
    "        # 요소가 보일때까지 대기\n",
    "        WebDriverWait(driver, 10).until(EC.presence_of_element_located((By.XPATH,\\\n",
    "        '//*[@id=\"__next\"]/main/div[1]/div/section/section/article[1]/div/div[1]/h3')))\n",
    "\n",
    "        ## 스크린샷 찍기\n",
    "        driver.save_screenshot(f'screenshot/{idx}_{company_name}.png')\n",
    "\n",
    "        ## 저장할때까지 기다리기\n",
    "        time.sleep(1)\n",
    "    except Exception as e:\n",
    "        print(\"스크린샷 에러:\", idx, e)\n",
    "\n",
    "    try:\n",
    "        position_detail = soup.find('section', {'class': 'JobContent_descriptionWrapper__SM4UD'})\\\n",
    "                            .find('article', {'class': 'JobDescription_JobDescription__VWfcb'})\n",
    "        team_info = position_detail.find('p').text\n",
    "        main_job_title = position_detail.find_all('div', {'class': 'JobDescription_JobDescription__paragraph__Iwfqn'})[0].find('h3').text\n",
    "        main_job_content = position_detail.find_all('div', {'class': 'JobDescription_JobDescription__paragraph__Iwfqn'})[0].find('p').text\n",
    "        requirement_title = position_detail.find_all('div', {'class': 'JobDescription_JobDescription__paragraph__Iwfqn'})[1].find('h3').text\n",
    "        requirement_content = position_detail.find_all('div', {'class': 'JobDescription_JobDescription__paragraph__Iwfqn'})[1].find('p').text\n",
    "        \n",
    "        preferred_title = position_detail.find_all('div', {'class': 'JobDescription_JobDescription__paragraph__Iwfqn'})[2].find('h3').text\n",
    "        preferred_content = position_detail.find_all('div', {'class': 'JobDescription_JobDescription__paragraph__Iwfqn'})[2].find('p').text\n",
    "        wellbeing_title = position_detail.find_all('div', {'class': 'JobDescription_JobDescription__paragraph__Iwfqn'})[3].find('h3').text\n",
    "        wellbeing_content = position_detail.find_all('div', {'class': 'JobDescription_JobDescription__paragraph__Iwfqn'})[3].find('p').text\n",
    "        \n",
    "        ## 기술스택\n",
    "        skill_stacks = soup.find('section', {'class': 'JobContent_descriptionWrapper__SM4UD'})\\\n",
    "                            .find('article', {'class': 'JobSkillTags_JobSkillTags__V1tZr'})\n",
    "        \n",
    "        if skill_stacks:\n",
    "\n",
    "            skill_title = skill_stacks.find('h2').text\n",
    "            skill_list = [i.text for i in skill_stacks.find('ul').find_all('li')]\n",
    "\n",
    "        address = soup.find('article', {'class': 'JobWorkPlace_JobWorkPlace__5fs5x'}).find('span').text\n",
    "        current_url = driver.current_url\n",
    "    except Exception as e:\n",
    "        print(\"상세정보 에러:\", idx, e)\n",
    "        pass\n",
    "\n",
    "    return company_name, title, team_info, main_job_title, main_job_content, requirement_title, requirement_content, preferred_title, preferred_content, wellbeing_title, wellbeing_content, skill_title, skill_list, address, current_url"
   ]
  },
  {
   "cell_type": "code",
   "execution_count": 78,
   "metadata": {},
   "outputs": [
    {
     "data": {
      "text/plain": [
       "['https://www.wanted.co.kr/wd/224337',\n",
       " 'https://www.wanted.co.kr/wd/219966',\n",
       " 'https://www.wanted.co.kr/wd/215835',\n",
       " 'https://www.wanted.co.kr/wd/218916',\n",
       " 'https://www.wanted.co.kr/wd/224841',\n",
       " 'https://www.wanted.co.kr/wd/223481',\n",
       " 'https://www.wanted.co.kr/wd/222883',\n",
       " 'https://www.wanted.co.kr/wd/223175',\n",
       " 'https://www.wanted.co.kr/wd/161548',\n",
       " 'https://www.wanted.co.kr/wd/191674',\n",
       " 'https://www.wanted.co.kr/wd/216979',\n",
       " 'https://www.wanted.co.kr/wd/201396',\n",
       " 'https://www.wanted.co.kr/wd/215210',\n",
       " 'https://www.wanted.co.kr/wd/193901',\n",
       " 'https://www.wanted.co.kr/wd/142793',\n",
       " 'https://www.wanted.co.kr/wd/191938',\n",
       " 'https://www.wanted.co.kr/wd/219963',\n",
       " 'https://www.wanted.co.kr/wd/85810',\n",
       " 'https://www.wanted.co.kr/wd/224170',\n",
       " 'https://www.wanted.co.kr/wd/180914',\n",
       " 'https://www.wanted.co.kr/wd/208247',\n",
       " 'https://www.wanted.co.kr/wd/215111',\n",
       " 'https://www.wanted.co.kr/wd/221269',\n",
       " 'https://www.wanted.co.kr/wd/210507',\n",
       " 'https://www.wanted.co.kr/wd/212760',\n",
       " 'https://www.wanted.co.kr/wd/210157',\n",
       " 'https://www.wanted.co.kr/wd/210200',\n",
       " 'https://www.wanted.co.kr/wd/218746',\n",
       " 'https://www.wanted.co.kr/wd/213503',\n",
       " 'https://www.wanted.co.kr/wd/145246',\n",
       " 'https://www.wanted.co.kr/wd/207720',\n",
       " 'https://www.wanted.co.kr/wd/220513',\n",
       " 'https://www.wanted.co.kr/wd/204718',\n",
       " 'https://www.wanted.co.kr/wd/186195',\n",
       " 'https://www.wanted.co.kr/wd/216484',\n",
       " 'https://www.wanted.co.kr/wd/214874',\n",
       " 'https://www.wanted.co.kr/wd/110492',\n",
       " 'https://www.wanted.co.kr/wd/222878',\n",
       " 'https://www.wanted.co.kr/wd/202936',\n",
       " 'https://www.wanted.co.kr/wd/214061',\n",
       " 'https://www.wanted.co.kr/wd/219968',\n",
       " 'https://www.wanted.co.kr/wd/206929',\n",
       " 'https://www.wanted.co.kr/wd/220540',\n",
       " 'https://www.wanted.co.kr/wd/200992',\n",
       " 'https://www.wanted.co.kr/wd/224065',\n",
       " 'https://www.wanted.co.kr/wd/219967',\n",
       " 'https://www.wanted.co.kr/wd/180586',\n",
       " 'https://www.wanted.co.kr/wd/215426',\n",
       " 'https://www.wanted.co.kr/wd/217566',\n",
       " 'https://www.wanted.co.kr/wd/215993',\n",
       " 'https://www.wanted.co.kr/wd/210403',\n",
       " 'https://www.wanted.co.kr/wd/157552',\n",
       " 'https://www.wanted.co.kr/wd/223258',\n",
       " 'https://www.wanted.co.kr/wd/215345',\n",
       " 'https://www.wanted.co.kr/wd/203288',\n",
       " 'https://www.wanted.co.kr/wd/208973',\n",
       " 'https://www.wanted.co.kr/wd/189666',\n",
       " 'https://www.wanted.co.kr/wd/162084',\n",
       " 'https://www.wanted.co.kr/wd/209965',\n",
       " 'https://www.wanted.co.kr/wd/191088',\n",
       " 'https://www.wanted.co.kr/wd/213442',\n",
       " 'https://www.wanted.co.kr/wd/176470',\n",
       " 'https://www.wanted.co.kr/wd/197955',\n",
       " 'https://www.wanted.co.kr/wd/205486',\n",
       " 'https://www.wanted.co.kr/wd/200700',\n",
       " 'https://www.wanted.co.kr/wd/196128',\n",
       " 'https://www.wanted.co.kr/wd/224969',\n",
       " 'https://www.wanted.co.kr/wd/71388',\n",
       " 'https://www.wanted.co.kr/wd/223227',\n",
       " 'https://www.wanted.co.kr/wd/130444',\n",
       " 'https://www.wanted.co.kr/wd/119414',\n",
       " 'https://www.wanted.co.kr/wd/107009',\n",
       " 'https://www.wanted.co.kr/wd/220186',\n",
       " 'https://www.wanted.co.kr/wd/223434',\n",
       " 'https://www.wanted.co.kr/wd/218572',\n",
       " 'https://www.wanted.co.kr/wd/223310',\n",
       " 'https://www.wanted.co.kr/wd/222011',\n",
       " 'https://www.wanted.co.kr/wd/222276',\n",
       " 'https://www.wanted.co.kr/wd/222965',\n",
       " 'https://www.wanted.co.kr/wd/156620',\n",
       " 'https://www.wanted.co.kr/wd/215042',\n",
       " 'https://www.wanted.co.kr/wd/219915',\n",
       " 'https://www.wanted.co.kr/wd/167495',\n",
       " 'https://www.wanted.co.kr/wd/180746',\n",
       " 'https://www.wanted.co.kr/wd/191443',\n",
       " 'https://www.wanted.co.kr/wd/223978',\n",
       " 'https://www.wanted.co.kr/wd/219384',\n",
       " 'https://www.wanted.co.kr/wd/220545',\n",
       " 'https://www.wanted.co.kr/wd/212988',\n",
       " 'https://www.wanted.co.kr/wd/221232',\n",
       " 'https://www.wanted.co.kr/wd/194470',\n",
       " 'https://www.wanted.co.kr/wd/196196',\n",
       " 'https://www.wanted.co.kr/wd/223023',\n",
       " 'https://www.wanted.co.kr/wd/184502',\n",
       " 'https://www.wanted.co.kr/wd/202177',\n",
       " 'https://www.wanted.co.kr/wd/219850',\n",
       " 'https://www.wanted.co.kr/wd/222747',\n",
       " 'https://www.wanted.co.kr/wd/212908',\n",
       " 'https://www.wanted.co.kr/wd/220589',\n",
       " 'https://www.wanted.co.kr/wd/155940',\n",
       " 'https://www.wanted.co.kr/wd/200350',\n",
       " 'https://www.wanted.co.kr/wd/203738',\n",
       " 'https://www.wanted.co.kr/wd/204725',\n",
       " 'https://www.wanted.co.kr/wd/207717',\n",
       " 'https://www.wanted.co.kr/wd/216937',\n",
       " 'https://www.wanted.co.kr/wd/221127',\n",
       " 'https://www.wanted.co.kr/wd/196930',\n",
       " 'https://www.wanted.co.kr/wd/217760',\n",
       " 'https://www.wanted.co.kr/wd/209268',\n",
       " 'https://www.wanted.co.kr/wd/213508',\n",
       " 'https://www.wanted.co.kr/wd/210848',\n",
       " 'https://www.wanted.co.kr/wd/207288',\n",
       " 'https://www.wanted.co.kr/wd/208291',\n",
       " 'https://www.wanted.co.kr/wd/182096',\n",
       " 'https://www.wanted.co.kr/wd/178985',\n",
       " 'https://www.wanted.co.kr/wd/179347',\n",
       " 'https://www.wanted.co.kr/wd/193867',\n",
       " 'https://www.wanted.co.kr/wd/181976',\n",
       " 'https://www.wanted.co.kr/wd/149962']"
      ]
     },
     "execution_count": 78,
     "metadata": {},
     "output_type": "execute_result"
    }
   ],
   "source": [
    "target_url_list"
   ]
  },
  {
   "cell_type": "code",
   "execution_count": 79,
   "metadata": {},
   "outputs": [
    {
     "name": "stderr",
     "output_type": "stream",
     "text": [
      " 86%|████████▌ | 102/119 [08:09<01:22,  4.86s/it]"
     ]
    },
    {
     "name": "stdout",
     "output_type": "stream",
     "text": [
      "상세정보 에러: 102 list index out of range\n"
     ]
    },
    {
     "name": "stderr",
     "output_type": "stream",
     "text": [
      "100%|██████████| 119/119 [09:52<00:00,  4.98s/it]\n"
     ]
    }
   ],
   "source": [
    "data_list = []\n",
    "\n",
    "for idx, target in enumerate(tqdm(target_url_list)):\n",
    "    try :\n",
    "        driver.get(target)\n",
    "        company_name, title, team_info, main_job_title, main_job_content, requirement_title, requirement_content, preferred_title, preferred_content, wellbeing_title, wellbeing_content, skill_title, skill_list, address, current_url = detail_crawl(driver, idx)\n",
    "        time.sleep(1)\n",
    "        data = {\n",
    "            'company_name': company_name,\n",
    "            'title': title,\n",
    "            'team_info': team_info,\n",
    "            'Main Job Title': main_job_title,\n",
    "            'Main Job Content': main_job_content,\n",
    "            'Requirement Title': requirement_title,\n",
    "            'Requirement Content': requirement_content,\n",
    "            'Preferred Title': preferred_title,\n",
    "            'Preferred Content': preferred_content,\n",
    "            'Wellbeing Title': wellbeing_title,\n",
    "            'Wellbeing Content': wellbeing_content,\n",
    "            'Skill Title': skill_title,\n",
    "            'Skill List': skill_list,\n",
    "            'Address': address,\n",
    "            'Current URL': current_url\n",
    "        }\n",
    "        data_list.append(data)\n",
    "    except Exception as e:\n",
    "        print(company_name, e)\n",
    "        pass    \n",
    "\n",
    "res_df = pd.DataFrame(data_list)"
   ]
  },
  {
   "cell_type": "code",
   "execution_count": null,
   "metadata": {},
   "outputs": [],
   "source": []
  }
 ],
 "metadata": {
  "kernelspec": {
   "display_name": "Python 3",
   "language": "python",
   "name": "python3"
  },
  "language_info": {
   "codemirror_mode": {
    "name": "ipython",
    "version": 3
   },
   "file_extension": ".py",
   "mimetype": "text/x-python",
   "name": "python",
   "nbconvert_exporter": "python",
   "pygments_lexer": "ipython3",
   "version": "3.9.6"
  }
 },
 "nbformat": 4,
 "nbformat_minor": 2
}
